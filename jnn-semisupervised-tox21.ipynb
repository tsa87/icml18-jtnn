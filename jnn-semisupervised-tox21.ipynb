{
 "cells": [
  {
   "cell_type": "code",
   "execution_count": 1,
   "metadata": {},
   "outputs": [
    {
     "name": "stdout",
     "output_type": "stream",
     "text": [
      "('probtorch:', '0.0+4b7e140', 'torch:', '1.3.1', 'cuda:', False)\n"
     ]
    }
   ],
   "source": [
    "import matplotlib.pyplot as plt\n",
    "import numpy as np\n",
    "from scipy.stats import norm\n",
    "import torch\n",
    "import torch.nn as nn\n",
    "from torch.nn import Parameter\n",
    "import sys\n",
    "sys.path.append('.')\n",
    "sys.path.append('./probtorch')\n",
    "\n",
    "import probtorch\n",
    "from probtorch.util import expand_inputs\n",
    "print('probtorch:', probtorch.__version__, \n",
    "      'torch:', torch.__version__, \n",
    "      'cuda:', torch.cuda.is_available())\n",
    "\n",
    "import torch.optim as optim\n",
    "import torch.optim.lr_scheduler as lr_scheduler\n",
    "from torch.utils.data import DataLoader\n",
    "from torch.autograd import Variable\n",
    "\n",
    "import math, random\n",
    "import argparse\n",
    "from collections import deque\n",
    "import cPickle as pickle\n",
    "\n",
    "from fast_jtnn import *\n",
    "import rdkit"
   ]
  },
  {
   "cell_type": "code",
   "execution_count": 2,
   "metadata": {},
   "outputs": [],
   "source": [
    "load_epoch = 0\n",
    "\n",
    "alpha = 0.1 * 500 #0.1 * Number of samples\n",
    "\n",
    "hidden_size=450\n",
    "batch_size=4\n",
    "latent_size=56\n",
    "depthT=20\n",
    "depthG=3\n",
    "y_size=2\n",
    "\n",
    "lr=1e-3\n",
    "clip_norm=50.0\n",
    "beta=0.0\n",
    "step_beta=0.002\n",
    "max_beta=1.0\n",
    "warmup=40000\n",
    "\n",
    "epoch=20\n",
    "anneal_rate=0.9\n",
    "anneal_iter=40000\n",
    "kl_anneal_iter=2000\n",
    "print_iter=50\n",
    "save_iter=5000\n",
    "\n",
    "train_folder = 'fast_molvae/moses-processed/'\n",
    "vocab_file = 'data/tox21/vocab.txt'"
   ]
  },
  {
   "cell_type": "code",
   "execution_count": 3,
   "metadata": {},
   "outputs": [],
   "source": [
    "vocab = [x.strip(\"\\r\\n \") for x in open(vocab_file)]\n",
    "vocab = Vocab(vocab)"
   ]
  },
  {
   "cell_type": "code",
   "execution_count": 4,
   "metadata": {
    "scrolled": true
   },
   "outputs": [
    {
     "name": "stdout",
     "output_type": "stream",
     "text": [
      "JTNNVAE(\n",
      "  (jtnn): JTNNEncoder(\n",
      "    (embedding): Embedding(550, 450)\n",
      "    (outputNN): Sequential(\n",
      "      (0): Linear(in_features=900, out_features=450, bias=True)\n",
      "      (1): ReLU()\n",
      "    )\n",
      "    (GRU): GraphGRU(\n",
      "      (W_z): Linear(in_features=900, out_features=450, bias=True)\n",
      "      (W_r): Linear(in_features=450, out_features=450, bias=False)\n",
      "      (U_r): Linear(in_features=450, out_features=450, bias=True)\n",
      "      (W_h): Linear(in_features=900, out_features=450, bias=True)\n",
      "    )\n",
      "  )\n",
      "  (decoder): JTNNDecoder(\n",
      "    (embedding): Embedding(550, 450)\n",
      "    (W_z): Linear(in_features=900, out_features=450, bias=True)\n",
      "    (U_r): Linear(in_features=450, out_features=450, bias=False)\n",
      "    (W_r): Linear(in_features=450, out_features=450, bias=True)\n",
      "    (W_h): Linear(in_features=900, out_features=450, bias=True)\n",
      "    (W): Linear(in_features=478, out_features=450, bias=True)\n",
      "    (U): Linear(in_features=478, out_features=450, bias=True)\n",
      "    (U_i): Linear(in_features=900, out_features=450, bias=True)\n",
      "    (W_o): Linear(in_features=450, out_features=550, bias=True)\n",
      "    (U_o): Linear(in_features=450, out_features=1, bias=True)\n",
      "    (pred_loss): CrossEntropyLoss()\n",
      "    (stop_loss): BCEWithLogitsLoss()\n",
      "  )\n",
      "  (classifier): Sequential(\n",
      "    (0): Linear(in_features=900, out_features=2, bias=True)\n",
      "    (1): Softmax(dim=None)\n",
      "  )\n",
      "  (classification_loss): CrossEntropyLoss()\n",
      "  (jtmpn): JTMPN(\n",
      "    (W_i): Linear(in_features=40, out_features=450, bias=False)\n",
      "    (W_h): Linear(in_features=450, out_features=450, bias=False)\n",
      "    (W_o): Linear(in_features=485, out_features=450, bias=True)\n",
      "  )\n",
      "  (mpn): MPN(\n",
      "    (W_i): Linear(in_features=50, out_features=450, bias=False)\n",
      "    (W_h): Linear(in_features=450, out_features=450, bias=False)\n",
      "    (W_o): Linear(in_features=489, out_features=450, bias=True)\n",
      "  )\n",
      "  (A_assm): Linear(in_features=28, out_features=450, bias=False)\n",
      "  (assm_loss): CrossEntropyLoss()\n",
      "  (T_mean): Linear(in_features=452, out_features=28, bias=True)\n",
      "  (T_var): Linear(in_features=452, out_features=28, bias=True)\n",
      "  (G_mean): Linear(in_features=452, out_features=28, bias=True)\n",
      "  (G_var): Linear(in_features=452, out_features=28, bias=True)\n",
      ")\n"
     ]
    },
    {
     "name": "stderr",
     "output_type": "stream",
     "text": [
      "/home/tsa87/miniconda3/envs/python2/lib/python2.7/site-packages/torch/nn/_reduction.py:43: UserWarning: size_average and reduce args will be deprecated, please use reduction='sum' instead.\n",
      "  warnings.warn(warning.format(ret))\n"
     ]
    }
   ],
   "source": [
    "model = JTNNVAE(vocab, hidden_size, latent_size, y_size, depthT, depthG, alpha)\n",
    "print model"
   ]
  },
  {
   "cell_type": "code",
   "execution_count": 5,
   "metadata": {},
   "outputs": [],
   "source": [
    "for param in model.parameters():\n",
    "    if param.dim() == 1:\n",
    "        nn.init.constant_(param, 0)\n",
    "    else:\n",
    "        nn.init.xavier_normal_(param)"
   ]
  },
  {
   "cell_type": "code",
   "execution_count": 6,
   "metadata": {},
   "outputs": [
    {
     "name": "stdout",
     "output_type": "stream",
     "text": [
      "Model #Params: 5368K\n"
     ]
    }
   ],
   "source": [
    "if load_epoch > 0:\n",
    "    model.load_state_dict(torch.load(save_dir + \"/model.iter-\" + str(load_epoch)))\n",
    "    \n",
    "print \"Model #Params: %dK\" % (sum([x.nelement() for x in model.parameters()]) / 1000,)"
   ]
  },
  {
   "cell_type": "code",
   "execution_count": 7,
   "metadata": {},
   "outputs": [
    {
     "name": "stderr",
     "output_type": "stream",
     "text": [
      "/home/tsa87/miniconda3/envs/python2/lib/python2.7/site-packages/torch/optim/lr_scheduler.py:100: UserWarning: Detected call of `lr_scheduler.step()` before `optimizer.step()`. In PyTorch 1.1.0 and later, you should call them in the opposite order: `optimizer.step()` before `lr_scheduler.step()`.  Failure to do this will result in PyTorch skipping the first value of the learning rate schedule.See more details at https://pytorch.org/docs/stable/optim.html#how-to-adjust-learning-rate\n",
      "  \"https://pytorch.org/docs/stable/optim.html#how-to-adjust-learning-rate\", UserWarning)\n"
     ]
    }
   ],
   "source": [
    "optimizer = optim.Adam(model.parameters(), lr=lr)\n",
    "scheduler = lr_scheduler.ExponentialLR(optimizer, anneal_rate)\n",
    "scheduler.step()"
   ]
  },
  {
   "cell_type": "code",
   "execution_count": 8,
   "metadata": {},
   "outputs": [],
   "source": [
    "param_norm = lambda m: math.sqrt(sum([p.norm().item() ** 2 for p in m.parameters()]))\n",
    "grad_norm = lambda m: math.sqrt(sum([p.grad.norm().item() ** 2 for p in m.parameters() if p.grad is not None]))"
   ]
  },
  {
   "cell_type": "code",
   "execution_count": null,
   "metadata": {},
   "outputs": [
    {
     "name": "stderr",
     "output_type": "stream",
     "text": [
      "/home/tsa87/miniconda3/envs/python2/lib/python2.7/site-packages/torch/nn/functional.py:1351: UserWarning: nn.functional.sigmoid is deprecated. Use torch.sigmoid instead.\n",
      "  warnings.warn(\"nn.functional.sigmoid is deprecated. Use torch.sigmoid instead.\")\n",
      "/home/tsa87/miniconda3/envs/python2/lib/python2.7/site-packages/torch/nn/functional.py:1340: UserWarning: nn.functional.tanh is deprecated. Use torch.tanh instead.\n",
      "  warnings.warn(\"nn.functional.tanh is deprecated. Use torch.tanh instead.\")\n",
      "/home/tsa87/miniconda3/envs/python2/lib/python2.7/site-packages/torch/nn/modules/container.py:92: UserWarning: Implicit dimension choice for softmax has been deprecated. Change the call to include dim=X as an argument.\n",
      "  input = module(input)\n"
     ]
    }
   ],
   "source": [
    "total_step = load_epoch\n",
    "beta = beta\n",
    "meters = np.zeros(4)\n",
    "\n",
    "for epoch in xrange(epoch):\n",
    "    loader = MolTreeFolder(train_folder, vocab, batch_size=batch_size)\n",
    "    for (supervised_batch, unsupervised_batch) in loader: \n",
    "        if len(supervised_batch['labels']) == batch_size and len(unsupervised_batch['labels']) == batch_size:\n",
    "            total_step += 1\n",
    "\n",
    "            labels = torch.from_numpy(supervised_batch['labels'])[:, None].long()\n",
    "            labels = torch.zeros(batch_size, 2).scatter_(1, labels, 1)\n",
    "\n",
    "            model.zero_grad()\n",
    "            unsupervised_loss, kl_div, wacc, tacc, sacc = model(unsupervised_batch['data'], None, beta)\n",
    "            supervised_loss, kl_div, wacc, tacc, sacc = model(supervised_batch['data'], labels, beta) \n",
    "\n",
    "            loss = unsupervised_loss + supervised_loss\n",
    "            loss.backward()\n",
    "\n",
    "            nn.utils.clip_grad_norm_(model.parameters(), clip_norm)\n",
    "            optimizer.step()\n",
    "\n",
    "            meters = meters + np.array([kl_div, wacc * 100, tacc * 100, sacc * 100])\n",
    "\n",
    "            if total_step % print_iter == 0:\n",
    "                meters /= print_iter\n",
    "                print \"[%d] Beta: %.3f, KL: %.2f, Word: %.2f, Topo: %.2f, Assm: %.2f, PNorm: %.2f, GNorm: %.2f\" % (total_step, beta, meters[0], meters[1], meters[2], meters[3], param_norm(model), grad_norm(model))\n",
    "                sys.stdout.flush()\n",
    "                meters *= 0\n",
    "\n",
    "            if total_step % save_iter == 0:\n",
    "                torch.save(model.state_dict(), save_dir + \"/model.iter-\" + str(total_step))\n",
    "\n",
    "            if total_step % anneal_iter == 0:\n",
    "                scheduler.step()\n",
    "                print \"learning rate: %.6f\" % scheduler.get_lr()[0]\n",
    "\n",
    "            if total_step % kl_anneal_iter == 0 and total_step >= warmup:\n",
    "                beta = min(max_beta, beta + step_beta)"
   ]
  },
  {
   "cell_type": "code",
   "execution_count": null,
   "metadata": {},
   "outputs": [],
   "source": [
    "def test(model, infer=True):\n",
    "    model.eval()\n",
    "\n",
    "    epoch_elbo = 0.0\n",
    "    epoch_correct = 0\n",
    "    N = 0\n",
    "    for b, (images, labels) in enumerate(data):\n",
    "        if images.size()[0] == NUM_BATCH:\n",
    "            N += NUM_BATCH\n",
    "            images = images.view(-1, NUM_PIXELS)\n",
    "            if CUDA:\n",
    "                images = images.cuda()\n",
    "            q = enc(images, num_samples=NUM_SAMPLES)\n",
    "            p = dec(images, q, num_samples=NUM_SAMPLES)\n",
    "            batch_elbo = elbo(q, p)\n",
    "            if CUDA:\n",
    "                batch_elbo = batch_elbo.cpu()\n",
    "            epoch_elbo += batch_elbo.item()\n",
    "            if infer:\n",
    "                log_p = p.log_joint(0, 1)\n",
    "                log_q = q.log_joint(0, 1)\n",
    "                log_w = log_p - log_q\n",
    "                w = torch.nn.functional.softmax(log_w, 0)\n",
    "                y_samples = q['digits'].value\n",
    "                y_expect = (w.unsqueeze(-1) * y_samples).sum(0)\n",
    "                _ , y_pred = y_expect.max(-1)\n",
    "                if CUDA:\n",
    "                    y_pred = y_pred.cpu()\n",
    "                epoch_correct += (labels == y_pred).sum().item()\n",
    "            else:\n",
    "                _, y_pred = q['digits'].value.max(-1)\n",
    "                if CUDA:\n",
    "                    y_pred = y_pred.cpu()\n",
    "                epoch_correct += (labels == y_pred).sum().item() / (NUM_SAMPLES or 1.0)\n",
    "    return epoch_elbo / N, epoch_correct / N"
   ]
  },
  {
   "cell_type": "code",
   "execution_count": null,
   "metadata": {},
   "outputs": [],
   "source": []
  }
 ],
 "metadata": {
  "kernelspec": {
   "display_name": "Python 2",
   "language": "python",
   "name": "python2"
  },
  "language_info": {
   "codemirror_mode": {
    "name": "ipython",
    "version": 2
   },
   "file_extension": ".py",
   "mimetype": "text/x-python",
   "name": "python",
   "nbconvert_exporter": "python",
   "pygments_lexer": "ipython2",
   "version": "2.7.16"
  }
 },
 "nbformat": 4,
 "nbformat_minor": 2
}
