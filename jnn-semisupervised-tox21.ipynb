{
 "cells": [
  {
   "cell_type": "code",
   "execution_count": 1,
   "metadata": {},
   "outputs": [],
   "source": [
    "%load_ext autoreload\n",
    "%autoreload 2\n",
    "\n",
    "import matplotlib.pyplot as plt\n",
    "import numpy as np\n",
    "from scipy.stats import norm\n",
    "import torch\n",
    "import torch.nn as nn\n",
    "from torch.nn import Parameter\n",
    "import sys\n",
    "sys.path.append('.')\n",
    "\n",
    "from sklearn.metrics import classification_report\n",
    "from utils import time_since\n",
    "import traceback\n",
    "\n",
    "import time\n",
    "\n",
    "import torch.optim as optim\n",
    "import torch.optim.lr_scheduler as lr_scheduler\n",
    "from torch.utils.data import DataLoader\n",
    "from torch.autograd import Variable\n",
    "\n",
    "import math, random\n",
    "import argparse\n",
    "from collections import deque\n",
    "import cPickle as pickle\n",
    "\n",
    "from fast_jtnn import *\n",
    "import rdkit"
   ]
  },
  {
   "cell_type": "code",
   "execution_count": 2,
   "metadata": {},
   "outputs": [],
   "source": [
    "label_col = 10 + 3 \n",
    "target_unlabeled_percentage = 0.75\n",
    "early_stop_thresh = 5\n",
    "\n",
    "load_epoch = 0\n",
    "alpha = 10 #0.1 * len_unlabelled / len_labelled\n",
    "\n",
    "hidden_size=56 #450\n",
    "batch_size=8\n",
    "latent_size=28\n",
    "depthT=20\n",
    "depthG=3\n",
    "y_size=2\n",
    "\n",
    "lr=1e-3\n",
    "clip_norm=50.0\n",
    "beta=0.0\n",
    "step_beta=0.002\n",
    "max_beta=1.0\n",
    "warmup=40 #40000\n",
    "\n",
    "total_epoch=50\n",
    "test_epoch=1\n",
    "anneal_rate=0.9\n",
    "anneal_iter=40 #40000\n",
    "kl_anneal_iter=20 #2000\n",
    "\n",
    "save_iter=50\n",
    "print_iter=5\n",
    "\n",
    "num_workers = 4\n",
    "has_cuda = torch.cuda.is_available()\n",
    "\n",
    "save_dir = 'data/tox21/model'\n",
    "train_folder = 'fast_molvae/tox21_processed/train'\n",
    "test_folder = 'fast_molvae/tox21_processed/test'\n",
    "vocab_file = 'data/tox21/vocab.txt'"
   ]
  },
  {
   "cell_type": "code",
   "execution_count": 3,
   "metadata": {},
   "outputs": [],
   "source": [
    "vocab = [x.strip(\"\\r\\n \") for x in open(vocab_file)]\n",
    "vocab = Vocab(vocab)"
   ]
  },
  {
   "cell_type": "code",
   "execution_count": 4,
   "metadata": {},
   "outputs": [
    {
     "name": "stderr",
     "output_type": "stream",
     "text": [
      "/home/tsa87/miniconda3/envs/python2/lib/python2.7/site-packages/torch/nn/_reduction.py:43: UserWarning: size_average and reduce args will be deprecated, please use reduction='sum' instead.\n",
      "  warnings.warn(warning.format(ret))\n"
     ]
    },
    {
     "name": "stdout",
     "output_type": "stream",
     "text": [
      "Model #Params: 183K\n",
      "Model #Params: 178K\n"
     ]
    }
   ],
   "source": [
    "weight = torch.tensor([1., 5.])\n",
    "\n",
    "semiJTNNVAE = SemiJTNNVAEClassifier(vocab, hidden_size, latent_size, y_size, depthT, depthG, alpha=100, weight=weight)\n",
    "semiNNVAE = NNVAE(1024, hidden_size, latent_size, y_size, alpha=10)\n",
    "\n",
    "def setup(model):\n",
    "    if has_cuda: model = model.cuda()\n",
    "\n",
    "    for param in model.parameters():\n",
    "        if param.dim() == 1:\n",
    "            nn.init.constant_(param, 0)\n",
    "        else:\n",
    "            nn.init.xavier_normal_(param)\n",
    "\n",
    "    # if load_epoch > 0:\n",
    "    #     model.load_state_dict(torch.load(save_dir + \"/model.iter-\" + str(load_epoch)))\n",
    "    # param_norm = lambda m: math.sqrt(sum([p.norm().item() ** 2 for p in m.parameters()]))\n",
    "    # grad_norm = lambda m: math.sqrt(sum([p.grad.norm().item() ** 2 for p in m.parameters() if p.grad is not None]))\n",
    "\n",
    "    print \"Model #Params: %dK\" % (sum([x.nelement() for x in model.parameters()]) / 1000,)\n",
    "\n",
    "    optimizer = optim.Adam(model.parameters(), lr=lr)\n",
    "    scheduler = lr_scheduler.ExponentialLR(optimizer, anneal_rate)\n",
    "    \n",
    "    return model, optimizer, scheduler\n",
    "\n",
    "semiJTNNVAE, jt_optimizer, jt_scheduler = setup(semiJTNNVAE)\n",
    "semiNNVAE, nn_optimizer, nn_scheduler = setup(semiNNVAE)"
   ]
  },
  {
   "cell_type": "code",
   "execution_count": 5,
   "metadata": {},
   "outputs": [
    {
     "name": "stdout",
     "output_type": "stream",
     "text": [
      "The history saving thread hit an unexpected error (OperationalError('database is locked',)).History will not be written to the database.\n"
     ]
    }
   ],
   "source": [
    "# Doing this because 20% of labelled data got lost in test\n",
    "tracker = IndexTracker(train_folder, label_idx=label_col, label_pct=(1-target_unlabeled_percentage)/0.8)"
   ]
  },
  {
   "cell_type": "code",
   "execution_count": 6,
   "metadata": {},
   "outputs": [],
   "source": [
    "def train(model, optimizer, scheduler, use_moltree=True, patience=3):\n",
    "    best_loss = np.inf\n",
    "    no_improvement = 0\n",
    "    \n",
    "    beta = 0\n",
    "    total_step = load_epoch\n",
    "    \n",
    "    start = time.time()\n",
    "    for epoch in xrange(total_epoch):\n",
    "        \n",
    "        preds = np.array([])\n",
    "        targets = np.array([])\n",
    "\n",
    "        # Evaluation loop\n",
    "        if epoch % test_epoch == 0:\n",
    "            with torch.no_grad():\n",
    "                model.eval()\n",
    "\n",
    "                if use_moltree:\n",
    "                    test_loader = MolTreeFolder(test_folder, vocab, batch_size=batch_size, feature_idx=1, label_idx=label_col, num_workers=num_workers)\n",
    "                else:\n",
    "                    test_loader = BaseFolder(test_folder, batch_size=batch_size, feature_idx=2, label_idx=label_col, num_workers=num_workers)\n",
    "                    \n",
    "                cum_loss = 0\n",
    "                for (supervised_batch, unsupervised_batch) in test_loader:  \n",
    "                    try:\n",
    "                        if len(supervised_batch['labels']) == batch_size:\n",
    "                            supervised_input = supervised_batch['data']\n",
    "                            labels = supervised_batch['labels'].cuda() if torch.cuda.is_available() else supervised_batch['labels']\n",
    "                                \n",
    "                            loss, clsf_loss, clsf_acc, (pred, target) = model(supervised_input, labels, beta)\n",
    "                            \n",
    "                            cum_loss += loss\n",
    "\n",
    "                            preds = np.append(preds, pred.cpu().detach().numpy())\n",
    "                            targets = np.append(targets, target.cpu().detach().numpy())\n",
    "                                            \n",
    "                    except Exception as e:\n",
    "                        traceback.print_exc()\n",
    "                        continue\n",
    "\n",
    "                print(classification_report(targets, preds)) \n",
    "                print 'time: %s' % time_since(start)\n",
    "                print \"[Test] Loss: %.3f, Clsf_loss: %.2f\" % (loss, clsf_loss)\n",
    "                \n",
    "                if cum_loss < best_loss:\n",
    "                    best_loss = cum_loss\n",
    "                    no_improvement = 0\n",
    "                else:\n",
    "                    no_improvement += 1\n",
    "                    if no_improvement > patience:\n",
    "                        print \"Ran out of patience, stop\"\n",
    "                        return \n",
    "                \n",
    "                \n",
    "        if use_moltree:\n",
    "            train_loader = MolTreeFolder(train_folder, vocab, batch_size=batch_size, feature_idx=1, label_idx=label_col, num_workers=num_workers)\n",
    "        else:\n",
    "            train_loader = BaseFolder(train_folder, batch_size=batch_size, feature_idx=2, label_idx=label_col, num_workers=num_workers)\n",
    "        \n",
    "        cache = np.zeros(3)\n",
    "        model.train()\n",
    "\n",
    "        for (supervised_batch, unsupervised_batch) in train_loader: \n",
    "            try:\n",
    "                if len(supervised_batch['labels']) == batch_size and len(unsupervised_batch['labels']) == batch_size:\n",
    "                    model.zero_grad()\n",
    "\n",
    "                    total_step += 1\n",
    "                    labels = supervised_batch['labels'].cuda() if torch.cuda.is_available() else supervised_batch['labels']\n",
    "                    \n",
    "                    unsupervised_loss, _, _, _ = model(unsupervised_batch['data'], None, beta)\n",
    "                    supervised_loss, clsf_loss, clsf_acc, (pred, target) = model(supervised_batch['data'], labels, beta)\n",
    "            \n",
    "                    loss = unsupervised_loss + supervised_loss\n",
    "                    \n",
    "                    cache += np.array([loss, clsf_loss, clsf_acc], dtype=np.float)\n",
    "                    \n",
    "                    loss.backward()\n",
    "                    nn.utils.clip_grad_norm_(model.parameters(), clip_norm)\n",
    "                    optimizer.step()\n",
    "                    optimizer.zero_grad()\n",
    "\n",
    "                    if total_step % save_iter == 0:\n",
    "                        print \"Saving model to \" + save_dir + \"/model.iter-\" + \"at step: \" + str(total_step)\n",
    "                        torch.save(model.state_dict(), save_dir + \"/model.iter-\" + str(total_step))\n",
    "\n",
    "                    if total_step % anneal_iter == 0:\n",
    "                        scheduler.step()\n",
    "                        print \"learning rate: %.6f\" % scheduler.get_lr()[0]\n",
    "\n",
    "                    if total_step % kl_anneal_iter == 0 and total_step >= warmup:\n",
    "                        beta = min(max_beta, beta + step_beta)\n",
    "\n",
    "                    if total_step % print_iter == 0:\n",
    "                        cache /= print_iter\n",
    "                        print \"Epoch: %d | Iter: %d\" % (epoch, total_step)\n",
    "                        print \"[Test] Loss: %.3f, Clsf_loss: %.2f, Clsf_acc: %.2f\" % (cache[0], cache[1], cache[2])\n",
    "                        sys.stdout.flush()\n",
    "                        cache *= 0\n",
    "\n",
    "            except Exception as e:\n",
    "                traceback.print_exc()\n",
    "                continue\n",
    "\n",
    "        scheduler.step()"
   ]
  },
  {
   "cell_type": "code",
   "execution_count": null,
   "metadata": {},
   "outputs": [
    {
     "name": "stdout",
     "output_type": "stream",
     "text": [
      "fast_molvae/tox21_processed/test/tensors-10.pkl opened\n",
      "fast_molvae/tox21_processed/test/tensors-9.pkl opened\n"
     ]
    },
    {
     "name": "stderr",
     "output_type": "stream",
     "text": [
      "/home/tsa87/miniconda3/envs/python2/lib/python2.7/site-packages/torch/nn/functional.py:1351: UserWarning: nn.functional.sigmoid is deprecated. Use torch.sigmoid instead.\n",
      "  warnings.warn(\"nn.functional.sigmoid is deprecated. Use torch.sigmoid instead.\")\n",
      "/home/tsa87/miniconda3/envs/python2/lib/python2.7/site-packages/torch/nn/functional.py:1340: UserWarning: nn.functional.tanh is deprecated. Use torch.tanh instead.\n",
      "  warnings.warn(\"nn.functional.tanh is deprecated. Use torch.tanh instead.\")\n",
      "/home/tsa87/miniconda3/envs/python2/lib/python2.7/site-packages/torch/nn/modules/container.py:92: UserWarning: Implicit dimension choice for softmax has been deprecated. Change the call to include dim=X as an argument.\n",
      "  input = module(input)\n",
      "/home/tsa87/miniconda3/envs/python2/lib/python2.7/site-packages/sklearn/metrics/classification.py:1143: UndefinedMetricWarning: Precision and F-score are ill-defined and being set to 0.0 in labels with no predicted samples.\n",
      "  'precision', 'predicted', average, warn_for)\n"
     ]
    },
    {
     "name": "stdout",
     "output_type": "stream",
     "text": [
      "              precision    recall  f1-score   support\n",
      "\n",
      "         0.0       0.00      0.00      0.00       166\n",
      "         1.0       0.14      1.00      0.24        26\n",
      "\n",
      "   micro avg       0.14      0.14      0.14       192\n",
      "   macro avg       0.07      0.50      0.12       192\n",
      "weighted avg       0.02      0.14      0.03       192\n",
      "\n",
      "time: 1 m 52 s\n",
      "[Test] Loss: 229.864, Clsf_loss: 109.80\n",
      "fast_molvae/tox21_processed/train/tensors-6.pkl opened\n",
      "Epoch: 0 | Iter: 5\n",
      "[Test] Loss: 321.322, Clsf_loss: 118.62, Clsf_acc: 0.17\n"
     ]
    },
    {
     "name": "stderr",
     "output_type": "stream",
     "text": [
      "Traceback (most recent call last):\n",
      "  File \"<ipython-input-6-e1dd9347bfd5>\", line 73, in train\n",
      "    supervised_loss, clsf_loss, clsf_acc, (pred, target) = model(supervised_batch['data'], labels, beta)\n",
      "  File \"/home/tsa87/miniconda3/envs/python2/lib/python2.7/site-packages/torch/nn/modules/module.py\", line 541, in __call__\n",
      "    result = self.forward(*input, **kwargs)\n",
      "  File \"fast_jtnn/jtnn_vae.py\", line 338, in forward\n",
      "    self._compute_partial_loss(y_batch, x_batch, x_tree_vecs, x_tree_mess, x_mol_vecs, x_jtmpn_holder, beta)\n",
      "  File \"fast_jtnn/jtnn_vae.py\", line 276, in _compute_partial_loss\n",
      "    word_loss, topo_loss, word_acc, topo_acc = self.decoder(x_batch, z_tree_vecs)\n",
      "  File \"/home/tsa87/miniconda3/envs/python2/lib/python2.7/site-packages/torch/nn/modules/module.py\", line 541, in __call__\n",
      "    result = self.forward(*input, **kwargs)\n",
      "  File \"fast_jtnn/jtnn_dec.py\", line 108, in forward\n",
      "    cur_h_nei = torch.stack(cur_h_nei, dim=0).view(-1,MAX_NB,self.hidden_size)\n",
      "RuntimeError: shape '[-1, 15, 56]' is invalid for input of size 896\n"
     ]
    },
    {
     "name": "stdout",
     "output_type": "stream",
     "text": [
      "Epoch: 0 | Iter: 10\n",
      "[Test] Loss: 262.406, Clsf_loss: 81.64, Clsf_acc: 0.07\n",
      "Epoch: 0 | Iter: 15\n",
      "[Test] Loss: 341.179, Clsf_loss: 123.59, Clsf_acc: 0.20\n"
     ]
    },
    {
     "name": "stderr",
     "output_type": "stream",
     "text": [
      "Traceback (most recent call last):\n",
      "  File \"<ipython-input-6-e1dd9347bfd5>\", line 73, in train\n",
      "    supervised_loss, clsf_loss, clsf_acc, (pred, target) = model(supervised_batch['data'], labels, beta)\n",
      "  File \"/home/tsa87/miniconda3/envs/python2/lib/python2.7/site-packages/torch/nn/modules/module.py\", line 541, in __call__\n",
      "    result = self.forward(*input, **kwargs)\n",
      "  File \"fast_jtnn/jtnn_vae.py\", line 338, in forward\n",
      "    self._compute_partial_loss(y_batch, x_batch, x_tree_vecs, x_tree_mess, x_mol_vecs, x_jtmpn_holder, beta)\n",
      "  File \"fast_jtnn/jtnn_vae.py\", line 276, in _compute_partial_loss\n",
      "    word_loss, topo_loss, word_acc, topo_acc = self.decoder(x_batch, z_tree_vecs)\n",
      "  File \"/home/tsa87/miniconda3/envs/python2/lib/python2.7/site-packages/torch/nn/modules/module.py\", line 541, in __call__\n",
      "    result = self.forward(*input, **kwargs)\n",
      "  File \"fast_jtnn/jtnn_dec.py\", line 108, in forward\n",
      "    cur_h_nei = torch.stack(cur_h_nei, dim=0).view(-1,MAX_NB,self.hidden_size)\n",
      "RuntimeError: shape '[-1, 15, 56]' is invalid for input of size 896\n"
     ]
    },
    {
     "name": "stdout",
     "output_type": "stream",
     "text": [
      "Epoch: 0 | Iter: 25\n",
      "[Test] Loss: 538.182, Clsf_loss: 183.06, Clsf_acc: 0.95\n",
      "fast_molvae/tox21_processed/train/tensors-4.pkl opened\n",
      "Epoch: 0 | Iter: 30\n",
      "[Test] Loss: 261.523, Clsf_loss: 93.64, Clsf_acc: 0.85\n"
     ]
    },
    {
     "name": "stderr",
     "output_type": "stream",
     "text": [
      "Traceback (most recent call last):\n",
      "  File \"<ipython-input-6-e1dd9347bfd5>\", line 72, in train\n",
      "    unsupervised_loss, _, _, _ = model(unsupervised_batch['data'], None, beta)\n",
      "  File \"/home/tsa87/miniconda3/envs/python2/lib/python2.7/site-packages/torch/nn/modules/module.py\", line 541, in __call__\n",
      "    result = self.forward(*input, **kwargs)\n",
      "  File \"fast_jtnn/jtnn_vae.py\", line 321, in forward\n",
      "    self._compute_partial_loss(y_batch, x_batch, x_tree_vecs, x_tree_mess, x_mol_vecs, x_jtmpn_holder, beta)\n",
      "  File \"fast_jtnn/jtnn_vae.py\", line 276, in _compute_partial_loss\n",
      "    word_loss, topo_loss, word_acc, topo_acc = self.decoder(x_batch, z_tree_vecs)\n",
      "  File \"/home/tsa87/miniconda3/envs/python2/lib/python2.7/site-packages/torch/nn/modules/module.py\", line 541, in __call__\n",
      "    result = self.forward(*input, **kwargs)\n",
      "  File \"fast_jtnn/jtnn_dec.py\", line 113, in forward\n",
      "    cur_o_nei = torch.stack(cur_o_nei, dim=0).view(-1,MAX_NB,self.hidden_size)\n",
      "RuntimeError: shape '[-1, 15, 56]' is invalid for input of size 896\n"
     ]
    },
    {
     "name": "stdout",
     "output_type": "stream",
     "text": [
      "Epoch: 0 | Iter: 35\n",
      "[Test] Loss: 230.527, Clsf_loss: 99.70, Clsf_acc: 0.62\n",
      "learning rate: 0.000900\n",
      "Epoch: 0 | Iter: 40\n",
      "[Test] Loss: 256.567, Clsf_loss: 112.81, Clsf_acc: 0.82\n",
      "Epoch: 0 | Iter: 45\n",
      "[Test] Loss: 240.275, Clsf_loss: 111.08, Clsf_acc: 0.38\n",
      "Saving model to data/tox21/model/model.iter-at step: 50\n"
     ]
    },
    {
     "name": "stderr",
     "output_type": "stream",
     "text": [
      "Traceback (most recent call last):\n",
      "  File \"<ipython-input-6-e1dd9347bfd5>\", line 86, in train\n",
      "    torch.save(model.state_dict(), save_dir + \"/model.iter-\" + str(total_step))\n",
      "  File \"/home/tsa87/miniconda3/envs/python2/lib/python2.7/site-packages/torch/serialization.py\", line 260, in save\n",
      "    return _with_file_like(f, \"wb\", lambda f: _save(obj, f, pickle_module, pickle_protocol))\n",
      "  File \"/home/tsa87/miniconda3/envs/python2/lib/python2.7/site-packages/torch/serialization.py\", line 183, in _with_file_like\n",
      "    f = open(f, mode)\n",
      "IOError: [Errno 2] No such file or directory: 'data/tox21/model/model.iter-50'\n"
     ]
    },
    {
     "name": "stdout",
     "output_type": "stream",
     "text": [
      "fast_molvae/tox21_processed/train/tensors-2.pkl opened\n",
      "Epoch: 0 | Iter: 55\n",
      "[Test] Loss: 478.056, Clsf_loss: 218.46, Clsf_acc: 1.25\n",
      "Epoch: 0 | Iter: 60\n",
      "[Test] Loss: 219.798, Clsf_loss: 117.77, Clsf_acc: 0.70\n",
      "Epoch: 0 | Iter: 65\n",
      "[Test] Loss: 226.281, Clsf_loss: 104.86, Clsf_acc: 0.72\n"
     ]
    },
    {
     "name": "stderr",
     "output_type": "stream",
     "text": [
      "Traceback (most recent call last):\n",
      "  File \"<ipython-input-6-e1dd9347bfd5>\", line 72, in train\n",
      "    unsupervised_loss, _, _, _ = model(unsupervised_batch['data'], None, beta)\n",
      "  File \"/home/tsa87/miniconda3/envs/python2/lib/python2.7/site-packages/torch/nn/modules/module.py\", line 541, in __call__\n",
      "    result = self.forward(*input, **kwargs)\n",
      "  File \"fast_jtnn/jtnn_vae.py\", line 321, in forward\n",
      "    self._compute_partial_loss(y_batch, x_batch, x_tree_vecs, x_tree_mess, x_mol_vecs, x_jtmpn_holder, beta)\n",
      "  File \"fast_jtnn/jtnn_vae.py\", line 276, in _compute_partial_loss\n",
      "    word_loss, topo_loss, word_acc, topo_acc = self.decoder(x_batch, z_tree_vecs)\n",
      "  File \"/home/tsa87/miniconda3/envs/python2/lib/python2.7/site-packages/torch/nn/modules/module.py\", line 541, in __call__\n",
      "    result = self.forward(*input, **kwargs)\n",
      "  File \"fast_jtnn/jtnn_dec.py\", line 108, in forward\n",
      "    cur_h_nei = torch.stack(cur_h_nei, dim=0).view(-1,MAX_NB,self.hidden_size)\n",
      "RuntimeError: shape '[-1, 15, 56]' is invalid for input of size 896\n"
     ]
    },
    {
     "name": "stdout",
     "output_type": "stream",
     "text": [
      "Epoch: 0 | Iter: 70\n",
      "[Test] Loss: 187.910, Clsf_loss: 90.92, Clsf_acc: 0.30\n",
      "Epoch: 0 | Iter: 75\n",
      "[Test] Loss: 215.138, Clsf_loss: 103.04, Clsf_acc: 0.35\n",
      "learning rate: 0.000810\n",
      "Epoch: 0 | Iter: 80\n",
      "[Test] Loss: 226.425, Clsf_loss: 100.50, Clsf_acc: 0.57\n",
      "fast_molvae/tox21_processed/train/tensors-1.pkl opened\n",
      "Epoch: 0 | Iter: 85\n",
      "[Test] Loss: 214.549, Clsf_loss: 108.14, Clsf_acc: 0.82\n",
      "Epoch: 0 | Iter: 90\n",
      "[Test] Loss: 207.646, Clsf_loss: 108.28, Clsf_acc: 0.82\n",
      "Epoch: 0 | Iter: 95\n",
      "[Test] Loss: 195.853, Clsf_loss: 83.19, Clsf_acc: 0.78\n",
      "Saving model to data/tox21/model/model.iter-at step: 100\n"
     ]
    },
    {
     "name": "stderr",
     "output_type": "stream",
     "text": [
      "Traceback (most recent call last):\n",
      "  File \"<ipython-input-6-e1dd9347bfd5>\", line 86, in train\n",
      "    torch.save(model.state_dict(), save_dir + \"/model.iter-\" + str(total_step))\n",
      "  File \"/home/tsa87/miniconda3/envs/python2/lib/python2.7/site-packages/torch/serialization.py\", line 260, in save\n",
      "    return _with_file_like(f, \"wb\", lambda f: _save(obj, f, pickle_module, pickle_protocol))\n",
      "  File \"/home/tsa87/miniconda3/envs/python2/lib/python2.7/site-packages/torch/serialization.py\", line 183, in _with_file_like\n",
      "    f = open(f, mode)\n",
      "IOError: [Errno 2] No such file or directory: 'data/tox21/model/model.iter-100'\n"
     ]
    },
    {
     "name": "stdout",
     "output_type": "stream",
     "text": [
      "Epoch: 0 | Iter: 105\n",
      "[Test] Loss: 419.260, Clsf_loss: 215.26, Clsf_acc: 1.35\n",
      "fast_molvae/tox21_processed/train/tensors-7.pkl opened\n",
      "Epoch: 0 | Iter: 110\n",
      "[Test] Loss: 207.634, Clsf_loss: 98.85, Clsf_acc: 0.70\n",
      "Epoch: 0 | Iter: 115\n",
      "[Test] Loss: 216.191, Clsf_loss: 106.61, Clsf_acc: 0.62\n",
      "learning rate: 0.000729\n",
      "Epoch: 0 | Iter: 120\n",
      "[Test] Loss: 218.225, Clsf_loss: 117.17, Clsf_acc: 0.80\n",
      "Epoch: 0 | Iter: 125\n",
      "[Test] Loss: 202.814, Clsf_loss: 104.83, Clsf_acc: 0.50\n",
      "Epoch: 0 | Iter: 130\n",
      "[Test] Loss: 181.895, Clsf_loss: 83.14, Clsf_acc: 0.57\n",
      "fast_molvae/tox21_processed/train/tensors-3.pkl opened\n",
      "Epoch: 0 | Iter: 135\n",
      "[Test] Loss: 207.709, Clsf_loss: 105.98, Clsf_acc: 0.82\n"
     ]
    },
    {
     "name": "stderr",
     "output_type": "stream",
     "text": [
      "Traceback (most recent call last):\n",
      "  File \"<ipython-input-6-e1dd9347bfd5>\", line 72, in train\n",
      "    unsupervised_loss, _, _, _ = model(unsupervised_batch['data'], None, beta)\n",
      "  File \"/home/tsa87/miniconda3/envs/python2/lib/python2.7/site-packages/torch/nn/modules/module.py\", line 541, in __call__\n",
      "    result = self.forward(*input, **kwargs)\n",
      "  File \"fast_jtnn/jtnn_vae.py\", line 321, in forward\n",
      "    self._compute_partial_loss(y_batch, x_batch, x_tree_vecs, x_tree_mess, x_mol_vecs, x_jtmpn_holder, beta)\n",
      "  File \"fast_jtnn/jtnn_vae.py\", line 276, in _compute_partial_loss\n",
      "    word_loss, topo_loss, word_acc, topo_acc = self.decoder(x_batch, z_tree_vecs)\n",
      "  File \"/home/tsa87/miniconda3/envs/python2/lib/python2.7/site-packages/torch/nn/modules/module.py\", line 541, in __call__\n",
      "    result = self.forward(*input, **kwargs)\n",
      "  File \"fast_jtnn/jtnn_dec.py\", line 113, in forward\n",
      "    cur_o_nei = torch.stack(cur_o_nei, dim=0).view(-1,MAX_NB,self.hidden_size)\n",
      "RuntimeError: shape '[-1, 15, 56]' is invalid for input of size 896\n"
     ]
    },
    {
     "name": "stdout",
     "output_type": "stream",
     "text": [
      "Epoch: 0 | Iter: 140\n",
      "[Test] Loss: 163.967, Clsf_loss: 87.74, Clsf_acc: 0.60\n",
      "Epoch: 0 | Iter: 145\n",
      "[Test] Loss: 209.724, Clsf_loss: 121.37, Clsf_acc: 0.53\n",
      "Saving model to data/tox21/model/model.iter-at step: 150\n"
     ]
    },
    {
     "name": "stderr",
     "output_type": "stream",
     "text": [
      "Traceback (most recent call last):\n",
      "  File \"<ipython-input-6-e1dd9347bfd5>\", line 86, in train\n",
      "    torch.save(model.state_dict(), save_dir + \"/model.iter-\" + str(total_step))\n",
      "  File \"/home/tsa87/miniconda3/envs/python2/lib/python2.7/site-packages/torch/serialization.py\", line 260, in save\n",
      "    return _with_file_like(f, \"wb\", lambda f: _save(obj, f, pickle_module, pickle_protocol))\n",
      "  File \"/home/tsa87/miniconda3/envs/python2/lib/python2.7/site-packages/torch/serialization.py\", line 183, in _with_file_like\n",
      "    f = open(f, mode)\n",
      "IOError: [Errno 2] No such file or directory: 'data/tox21/model/model.iter-150'\n"
     ]
    },
    {
     "name": "stdout",
     "output_type": "stream",
     "text": [
      "Epoch: 0 | Iter: 155\n",
      "[Test] Loss: 372.224, Clsf_loss: 167.77, Clsf_acc: 1.15\n",
      "learning rate: 0.000656\n",
      "Epoch: 0 | Iter: 160\n",
      "[Test] Loss: 175.598, Clsf_loss: 77.22, Clsf_acc: 0.95\n",
      "fast_molvae/tox21_processed/train/tensors-8.pkl opened\n",
      "Epoch: 0 | Iter: 165\n",
      "[Test] Loss: 185.773, Clsf_loss: 82.16, Clsf_acc: 0.90\n"
     ]
    },
    {
     "name": "stderr",
     "output_type": "stream",
     "text": [
      "Traceback (most recent call last):\n",
      "  File \"<ipython-input-6-e1dd9347bfd5>\", line 72, in train\n",
      "    unsupervised_loss, _, _, _ = model(unsupervised_batch['data'], None, beta)\n",
      "  File \"/home/tsa87/miniconda3/envs/python2/lib/python2.7/site-packages/torch/nn/modules/module.py\", line 541, in __call__\n",
      "    result = self.forward(*input, **kwargs)\n",
      "  File \"fast_jtnn/jtnn_vae.py\", line 321, in forward\n",
      "    self._compute_partial_loss(y_batch, x_batch, x_tree_vecs, x_tree_mess, x_mol_vecs, x_jtmpn_holder, beta)\n",
      "  File \"fast_jtnn/jtnn_vae.py\", line 276, in _compute_partial_loss\n",
      "    word_loss, topo_loss, word_acc, topo_acc = self.decoder(x_batch, z_tree_vecs)\n",
      "  File \"/home/tsa87/miniconda3/envs/python2/lib/python2.7/site-packages/torch/nn/modules/module.py\", line 541, in __call__\n",
      "    result = self.forward(*input, **kwargs)\n",
      "  File \"fast_jtnn/jtnn_dec.py\", line 113, in forward\n",
      "    cur_o_nei = torch.stack(cur_o_nei, dim=0).view(-1,MAX_NB,self.hidden_size)\n",
      "RuntimeError: shape '[-1, 15, 56]' is invalid for input of size 896\n"
     ]
    },
    {
     "name": "stdout",
     "output_type": "stream",
     "text": [
      "Epoch: 0 | Iter: 170\n",
      "[Test] Loss: 197.368, Clsf_loss: 117.30, Clsf_acc: 0.65\n"
     ]
    },
    {
     "name": "stderr",
     "output_type": "stream",
     "text": [
      "Traceback (most recent call last):\n",
      "  File \"<ipython-input-6-e1dd9347bfd5>\", line 72, in train\n",
      "    unsupervised_loss, _, _, _ = model(unsupervised_batch['data'], None, beta)\n",
      "  File \"/home/tsa87/miniconda3/envs/python2/lib/python2.7/site-packages/torch/nn/modules/module.py\", line 541, in __call__\n",
      "    result = self.forward(*input, **kwargs)\n",
      "  File \"fast_jtnn/jtnn_vae.py\", line 321, in forward\n",
      "    self._compute_partial_loss(y_batch, x_batch, x_tree_vecs, x_tree_mess, x_mol_vecs, x_jtmpn_holder, beta)\n",
      "  File \"fast_jtnn/jtnn_vae.py\", line 276, in _compute_partial_loss\n",
      "    word_loss, topo_loss, word_acc, topo_acc = self.decoder(x_batch, z_tree_vecs)\n",
      "  File \"/home/tsa87/miniconda3/envs/python2/lib/python2.7/site-packages/torch/nn/modules/module.py\", line 541, in __call__\n",
      "    result = self.forward(*input, **kwargs)\n",
      "  File \"fast_jtnn/jtnn_dec.py\", line 108, in forward\n",
      "    cur_h_nei = torch.stack(cur_h_nei, dim=0).view(-1,MAX_NB,self.hidden_size)\n",
      "RuntimeError: shape '[-1, 15, 56]' is invalid for input of size 896\n"
     ]
    },
    {
     "name": "stdout",
     "output_type": "stream",
     "text": [
      "Epoch: 0 | Iter: 175\n",
      "[Test] Loss: 161.161, Clsf_loss: 73.69, Clsf_acc: 0.72\n",
      "Epoch: 0 | Iter: 180\n",
      "[Test] Loss: 204.865, Clsf_loss: 104.65, Clsf_acc: 0.75\n",
      "Epoch: 0 | Iter: 185\n",
      "[Test] Loss: 202.410, Clsf_loss: 112.87, Clsf_acc: 0.72\n",
      "fast_molvae/tox21_processed/train/tensors-5.pkl opened\n",
      "Epoch: 0 | Iter: 190\n",
      "[Test] Loss: 200.501, Clsf_loss: 92.50, Clsf_acc: 0.70\n",
      "Epoch: 0 | Iter: 195\n",
      "[Test] Loss: 193.876, Clsf_loss: 92.14, Clsf_acc: 0.57\n",
      "Saving model to data/tox21/model/model.iter-at step: 200\n"
     ]
    },
    {
     "name": "stderr",
     "output_type": "stream",
     "text": [
      "Traceback (most recent call last):\n",
      "  File \"<ipython-input-6-e1dd9347bfd5>\", line 86, in train\n",
      "    torch.save(model.state_dict(), save_dir + \"/model.iter-\" + str(total_step))\n",
      "  File \"/home/tsa87/miniconda3/envs/python2/lib/python2.7/site-packages/torch/serialization.py\", line 260, in save\n",
      "    return _with_file_like(f, \"wb\", lambda f: _save(obj, f, pickle_module, pickle_protocol))\n",
      "  File \"/home/tsa87/miniconda3/envs/python2/lib/python2.7/site-packages/torch/serialization.py\", line 183, in _with_file_like\n",
      "    f = open(f, mode)\n",
      "IOError: [Errno 2] No such file or directory: 'data/tox21/model/model.iter-200'\n"
     ]
    },
    {
     "name": "stdout",
     "output_type": "stream",
     "text": [
      "Epoch: 0 | Iter: 205\n",
      "[Test] Loss: 399.375, Clsf_loss: 219.08, Clsf_acc: 1.62\n",
      "fast_molvae/tox21_processed/test/tensors-10.pkl opened\n",
      "fast_molvae/tox21_processed/test/tensors-9.pkl opened\n",
      "              precision    recall  f1-score   support\n",
      "\n",
      "         0.0       0.92      0.53      0.67       165\n",
      "         1.0       0.20      0.70      0.31        27\n",
      "\n",
      "   micro avg       0.56      0.56      0.56       192\n",
      "   macro avg       0.56      0.62      0.49       192\n",
      "weighted avg       0.82      0.56      0.62       192\n",
      "\n",
      "time: 19 m 1 s\n",
      "[Test] Loss: 120.173, Clsf_loss: 68.78\n",
      "fast_molvae/tox21_processed/train/tensors-6.pkl opened\n",
      "Epoch: 1 | Iter: 210\n",
      "[Test] Loss: 107.928, Clsf_loss: 53.82, Clsf_acc: 0.38\n",
      "Epoch: 1 | Iter: 215\n",
      "[Test] Loss: 237.433, Clsf_loss: 133.84, Clsf_acc: 0.60\n"
     ]
    },
    {
     "name": "stderr",
     "output_type": "stream",
     "text": [
      "Traceback (most recent call last):\n",
      "  File \"<ipython-input-6-e1dd9347bfd5>\", line 73, in train\n",
      "    supervised_loss, clsf_loss, clsf_acc, (pred, target) = model(supervised_batch['data'], labels, beta)\n",
      "  File \"/home/tsa87/miniconda3/envs/python2/lib/python2.7/site-packages/torch/nn/modules/module.py\", line 541, in __call__\n",
      "    result = self.forward(*input, **kwargs)\n",
      "  File \"fast_jtnn/jtnn_vae.py\", line 338, in forward\n",
      "    self._compute_partial_loss(y_batch, x_batch, x_tree_vecs, x_tree_mess, x_mol_vecs, x_jtmpn_holder, beta)\n",
      "  File \"fast_jtnn/jtnn_vae.py\", line 276, in _compute_partial_loss\n",
      "    word_loss, topo_loss, word_acc, topo_acc = self.decoder(x_batch, z_tree_vecs)\n",
      "  File \"/home/tsa87/miniconda3/envs/python2/lib/python2.7/site-packages/torch/nn/modules/module.py\", line 541, in __call__\n",
      "    result = self.forward(*input, **kwargs)\n",
      "  File \"fast_jtnn/jtnn_dec.py\", line 108, in forward\n",
      "    cur_h_nei = torch.stack(cur_h_nei, dim=0).view(-1,MAX_NB,self.hidden_size)\n",
      "RuntimeError: shape '[-1, 15, 56]' is invalid for input of size 1736\n"
     ]
    },
    {
     "name": "stdout",
     "output_type": "stream",
     "text": [
      "Epoch: 1 | Iter: 220\n",
      "[Test] Loss: 176.030, Clsf_loss: 87.53, Clsf_acc: 0.45\n"
     ]
    },
    {
     "name": "stderr",
     "output_type": "stream",
     "text": [
      "Traceback (most recent call last):\n",
      "  File \"<ipython-input-6-e1dd9347bfd5>\", line 73, in train\n",
      "    supervised_loss, clsf_loss, clsf_acc, (pred, target) = model(supervised_batch['data'], labels, beta)\n",
      "  File \"/home/tsa87/miniconda3/envs/python2/lib/python2.7/site-packages/torch/nn/modules/module.py\", line 541, in __call__\n",
      "    result = self.forward(*input, **kwargs)\n",
      "  File \"fast_jtnn/jtnn_vae.py\", line 338, in forward\n",
      "    self._compute_partial_loss(y_batch, x_batch, x_tree_vecs, x_tree_mess, x_mol_vecs, x_jtmpn_holder, beta)\n",
      "  File \"fast_jtnn/jtnn_vae.py\", line 276, in _compute_partial_loss\n",
      "    word_loss, topo_loss, word_acc, topo_acc = self.decoder(x_batch, z_tree_vecs)\n",
      "  File \"/home/tsa87/miniconda3/envs/python2/lib/python2.7/site-packages/torch/nn/modules/module.py\", line 541, in __call__\n",
      "    result = self.forward(*input, **kwargs)\n",
      "  File \"fast_jtnn/jtnn_dec.py\", line 108, in forward\n",
      "    cur_h_nei = torch.stack(cur_h_nei, dim=0).view(-1,MAX_NB,self.hidden_size)\n",
      "RuntimeError: shape '[-1, 15, 56]' is invalid for input of size 896\n"
     ]
    },
    {
     "name": "stdout",
     "output_type": "stream",
     "text": [
      "Epoch: 1 | Iter: 225\n",
      "[Test] Loss: 158.460, Clsf_loss: 68.19, Clsf_acc: 0.47\n",
      "Epoch: 1 | Iter: 230\n",
      "[Test] Loss: 188.754, Clsf_loss: 95.09, Clsf_acc: 0.57\n"
     ]
    },
    {
     "name": "stderr",
     "output_type": "stream",
     "text": [
      "Traceback (most recent call last):\n",
      "  File \"<ipython-input-6-e1dd9347bfd5>\", line 73, in train\n",
      "    supervised_loss, clsf_loss, clsf_acc, (pred, target) = model(supervised_batch['data'], labels, beta)\n",
      "  File \"/home/tsa87/miniconda3/envs/python2/lib/python2.7/site-packages/torch/nn/modules/module.py\", line 541, in __call__\n",
      "    result = self.forward(*input, **kwargs)\n",
      "  File \"fast_jtnn/jtnn_vae.py\", line 338, in forward\n",
      "    self._compute_partial_loss(y_batch, x_batch, x_tree_vecs, x_tree_mess, x_mol_vecs, x_jtmpn_holder, beta)\n",
      "  File \"fast_jtnn/jtnn_vae.py\", line 276, in _compute_partial_loss\n",
      "    word_loss, topo_loss, word_acc, topo_acc = self.decoder(x_batch, z_tree_vecs)\n",
      "  File \"/home/tsa87/miniconda3/envs/python2/lib/python2.7/site-packages/torch/nn/modules/module.py\", line 541, in __call__\n",
      "    result = self.forward(*input, **kwargs)\n",
      "  File \"fast_jtnn/jtnn_dec.py\", line 108, in forward\n",
      "    cur_h_nei = torch.stack(cur_h_nei, dim=0).view(-1,MAX_NB,self.hidden_size)\n",
      "RuntimeError: shape '[-1, 15, 56]' is invalid for input of size 896\n"
     ]
    },
    {
     "name": "stdout",
     "output_type": "stream",
     "text": [
      "fast_molvae/tox21_processed/train/tensors-4.pkl opened\n",
      "Epoch: 1 | Iter: 235\n",
      "[Test] Loss: 156.584, Clsf_loss: 62.64, Clsf_acc: 0.68\n",
      "learning rate: 0.000531\n",
      "Epoch: 1 | Iter: 240\n",
      "[Test] Loss: 183.997, Clsf_loss: 103.04, Clsf_acc: 0.78\n",
      "Epoch: 1 | Iter: 245\n",
      "[Test] Loss: 205.911, Clsf_loss: 105.36, Clsf_acc: 0.65\n",
      "Saving model to data/tox21/model/model.iter-at step: 250\n"
     ]
    },
    {
     "name": "stderr",
     "output_type": "stream",
     "text": [
      "Traceback (most recent call last):\n",
      "  File \"<ipython-input-6-e1dd9347bfd5>\", line 86, in train\n",
      "    torch.save(model.state_dict(), save_dir + \"/model.iter-\" + str(total_step))\n",
      "  File \"/home/tsa87/miniconda3/envs/python2/lib/python2.7/site-packages/torch/serialization.py\", line 260, in save\n",
      "    return _with_file_like(f, \"wb\", lambda f: _save(obj, f, pickle_module, pickle_protocol))\n",
      "  File \"/home/tsa87/miniconda3/envs/python2/lib/python2.7/site-packages/torch/serialization.py\", line 183, in _with_file_like\n",
      "    f = open(f, mode)\n",
      "IOError: [Errno 2] No such file or directory: 'data/tox21/model/model.iter-250'\n"
     ]
    },
    {
     "name": "stdout",
     "output_type": "stream",
     "text": [
      "Epoch: 1 | Iter: 255\n",
      "[Test] Loss: 360.833, Clsf_loss: 182.26, Clsf_acc: 1.55\n"
     ]
    },
    {
     "name": "stderr",
     "output_type": "stream",
     "text": [
      "Traceback (most recent call last):\n",
      "  File \"<ipython-input-6-e1dd9347bfd5>\", line 72, in train\n",
      "    unsupervised_loss, _, _, _ = model(unsupervised_batch['data'], None, beta)\n",
      "  File \"/home/tsa87/miniconda3/envs/python2/lib/python2.7/site-packages/torch/nn/modules/module.py\", line 541, in __call__\n",
      "    result = self.forward(*input, **kwargs)\n",
      "  File \"fast_jtnn/jtnn_vae.py\", line 321, in forward\n",
      "    self._compute_partial_loss(y_batch, x_batch, x_tree_vecs, x_tree_mess, x_mol_vecs, x_jtmpn_holder, beta)\n",
      "  File \"fast_jtnn/jtnn_vae.py\", line 276, in _compute_partial_loss\n",
      "    word_loss, topo_loss, word_acc, topo_acc = self.decoder(x_batch, z_tree_vecs)\n",
      "  File \"/home/tsa87/miniconda3/envs/python2/lib/python2.7/site-packages/torch/nn/modules/module.py\", line 541, in __call__\n",
      "    result = self.forward(*input, **kwargs)\n",
      "  File \"fast_jtnn/jtnn_dec.py\", line 113, in forward\n",
      "    cur_o_nei = torch.stack(cur_o_nei, dim=0).view(-1,MAX_NB,self.hidden_size)\n",
      "RuntimeError: shape '[-1, 15, 56]' is invalid for input of size 896\n"
     ]
    },
    {
     "name": "stdout",
     "output_type": "stream",
     "text": [
      "Epoch: 1 | Iter: 260\n",
      "[Test] Loss: 161.637, Clsf_loss: 81.35, Clsf_acc: 0.65\n",
      "fast_molvae/tox21_processed/train/tensors-2.pkl opened\n",
      "Epoch: 1 | Iter: 265\n",
      "[Test] Loss: 170.286, Clsf_loss: 85.73, Clsf_acc: 0.80\n",
      "Epoch: 1 | Iter: 270\n",
      "[Test] Loss: 182.799, Clsf_loss: 90.27, Clsf_acc: 0.60\n"
     ]
    },
    {
     "name": "stderr",
     "output_type": "stream",
     "text": [
      "Traceback (most recent call last):\n",
      "  File \"<ipython-input-6-e1dd9347bfd5>\", line 72, in train\n",
      "    unsupervised_loss, _, _, _ = model(unsupervised_batch['data'], None, beta)\n",
      "  File \"/home/tsa87/miniconda3/envs/python2/lib/python2.7/site-packages/torch/nn/modules/module.py\", line 541, in __call__\n",
      "    result = self.forward(*input, **kwargs)\n",
      "  File \"fast_jtnn/jtnn_vae.py\", line 321, in forward\n",
      "    self._compute_partial_loss(y_batch, x_batch, x_tree_vecs, x_tree_mess, x_mol_vecs, x_jtmpn_holder, beta)\n",
      "  File \"fast_jtnn/jtnn_vae.py\", line 276, in _compute_partial_loss\n",
      "    word_loss, topo_loss, word_acc, topo_acc = self.decoder(x_batch, z_tree_vecs)\n",
      "  File \"/home/tsa87/miniconda3/envs/python2/lib/python2.7/site-packages/torch/nn/modules/module.py\", line 541, in __call__\n",
      "    result = self.forward(*input, **kwargs)\n",
      "  File \"fast_jtnn/jtnn_dec.py\", line 108, in forward\n",
      "    cur_h_nei = torch.stack(cur_h_nei, dim=0).view(-1,MAX_NB,self.hidden_size)\n",
      "RuntimeError: shape '[-1, 15, 56]' is invalid for input of size 896\n"
     ]
    },
    {
     "name": "stdout",
     "output_type": "stream",
     "text": [
      "Epoch: 1 | Iter: 275\n",
      "[Test] Loss: 153.784, Clsf_loss: 80.79, Clsf_acc: 0.57\n",
      "learning rate: 0.000478\n",
      "Epoch: 1 | Iter: 280\n",
      "[Test] Loss: 195.766, Clsf_loss: 99.67, Clsf_acc: 0.62\n",
      "Epoch: 1 | Iter: 285\n",
      "[Test] Loss: 206.406, Clsf_loss: 102.69, Clsf_acc: 0.72\n",
      "fast_molvae/tox21_processed/train/tensors-1.pkl opened\n",
      "Epoch: 1 | Iter: 290\n",
      "[Test] Loss: 188.614, Clsf_loss: 96.97, Clsf_acc: 0.75\n",
      "Epoch: 1 | Iter: 295\n",
      "[Test] Loss: 161.189, Clsf_loss: 75.38, Clsf_acc: 0.85\n",
      "Saving model to data/tox21/model/model.iter-at step: 300\n"
     ]
    },
    {
     "name": "stderr",
     "output_type": "stream",
     "text": [
      "Traceback (most recent call last):\n",
      "  File \"<ipython-input-6-e1dd9347bfd5>\", line 86, in train\n",
      "    torch.save(model.state_dict(), save_dir + \"/model.iter-\" + str(total_step))\n",
      "  File \"/home/tsa87/miniconda3/envs/python2/lib/python2.7/site-packages/torch/serialization.py\", line 260, in save\n",
      "    return _with_file_like(f, \"wb\", lambda f: _save(obj, f, pickle_module, pickle_protocol))\n",
      "  File \"/home/tsa87/miniconda3/envs/python2/lib/python2.7/site-packages/torch/serialization.py\", line 183, in _with_file_like\n",
      "    f = open(f, mode)\n",
      "IOError: [Errno 2] No such file or directory: 'data/tox21/model/model.iter-300'\n"
     ]
    },
    {
     "name": "stdout",
     "output_type": "stream",
     "text": [
      "Epoch: 1 | Iter: 305\n",
      "[Test] Loss: 364.854, Clsf_loss: 192.35, Clsf_acc: 1.50\n",
      "Epoch: 1 | Iter: 310\n",
      "[Test] Loss: 181.789, Clsf_loss: 94.37, Clsf_acc: 0.72\n",
      "Epoch: 1 | Iter: 315\n",
      "[Test] Loss: 224.099, Clsf_loss: 132.11, Clsf_acc: 0.65\n",
      "fast_molvae/tox21_processed/train/tensors-7.pkl opened\n",
      "learning rate: 0.000430\n",
      "Epoch: 1 | Iter: 320\n",
      "[Test] Loss: 180.968, Clsf_loss: 89.81, Clsf_acc: 0.47\n",
      "Epoch: 1 | Iter: 325\n",
      "[Test] Loss: 170.334, Clsf_loss: 84.61, Clsf_acc: 0.78\n",
      "Epoch: 1 | Iter: 330\n",
      "[Test] Loss: 227.221, Clsf_loss: 130.20, Clsf_acc: 0.65\n",
      "Epoch: 1 | Iter: 335\n",
      "[Test] Loss: 229.649, Clsf_loss: 114.32, Clsf_acc: 0.65\n",
      "Epoch: 1 | Iter: 340\n",
      "[Test] Loss: 176.778, Clsf_loss: 84.22, Clsf_acc: 0.82\n",
      "fast_molvae/tox21_processed/train/tensors-3.pkl opened\n",
      "Epoch: 1 | Iter: 345\n",
      "[Test] Loss: 204.290, Clsf_loss: 113.75, Clsf_acc: 0.65\n",
      "Saving model to data/tox21/model/model.iter-at step: 350\n"
     ]
    },
    {
     "name": "stderr",
     "output_type": "stream",
     "text": [
      "Traceback (most recent call last):\n",
      "  File \"<ipython-input-6-e1dd9347bfd5>\", line 86, in train\n",
      "    torch.save(model.state_dict(), save_dir + \"/model.iter-\" + str(total_step))\n",
      "  File \"/home/tsa87/miniconda3/envs/python2/lib/python2.7/site-packages/torch/serialization.py\", line 260, in save\n",
      "    return _with_file_like(f, \"wb\", lambda f: _save(obj, f, pickle_module, pickle_protocol))\n",
      "  File \"/home/tsa87/miniconda3/envs/python2/lib/python2.7/site-packages/torch/serialization.py\", line 183, in _with_file_like\n",
      "    f = open(f, mode)\n",
      "IOError: [Errno 2] No such file or directory: 'data/tox21/model/model.iter-350'\n"
     ]
    },
    {
     "name": "stdout",
     "output_type": "stream",
     "text": [
      "Epoch: 1 | Iter: 355\n",
      "[Test] Loss: 387.646, Clsf_loss: 205.73, Clsf_acc: 1.27\n",
      "learning rate: 0.000387\n",
      "Epoch: 1 | Iter: 360\n",
      "[Test] Loss: 164.824, Clsf_loss: 78.46, Clsf_acc: 0.60\n",
      "Epoch: 1 | Iter: 365\n",
      "[Test] Loss: 176.837, Clsf_loss: 86.31, Clsf_acc: 0.78\n"
     ]
    },
    {
     "name": "stderr",
     "output_type": "stream",
     "text": [
      "Traceback (most recent call last):\n",
      "  File \"<ipython-input-6-e1dd9347bfd5>\", line 72, in train\n",
      "    unsupervised_loss, _, _, _ = model(unsupervised_batch['data'], None, beta)\n",
      "  File \"/home/tsa87/miniconda3/envs/python2/lib/python2.7/site-packages/torch/nn/modules/module.py\", line 541, in __call__\n",
      "    result = self.forward(*input, **kwargs)\n",
      "  File \"fast_jtnn/jtnn_vae.py\", line 321, in forward\n",
      "    self._compute_partial_loss(y_batch, x_batch, x_tree_vecs, x_tree_mess, x_mol_vecs, x_jtmpn_holder, beta)\n",
      "  File \"fast_jtnn/jtnn_vae.py\", line 276, in _compute_partial_loss\n",
      "    word_loss, topo_loss, word_acc, topo_acc = self.decoder(x_batch, z_tree_vecs)\n",
      "  File \"/home/tsa87/miniconda3/envs/python2/lib/python2.7/site-packages/torch/nn/modules/module.py\", line 541, in __call__\n",
      "    result = self.forward(*input, **kwargs)\n",
      "  File \"fast_jtnn/jtnn_dec.py\", line 113, in forward\n",
      "    cur_o_nei = torch.stack(cur_o_nei, dim=0).view(-1,MAX_NB,self.hidden_size)\n",
      "RuntimeError: shape '[-1, 15, 56]' is invalid for input of size 896\n"
     ]
    },
    {
     "name": "stdout",
     "output_type": "stream",
     "text": [
      "fast_molvae/tox21_processed/train/tensors-8.pkl opened\n",
      "Epoch: 1 | Iter: 370\n",
      "[Test] Loss: 159.307, Clsf_loss: 81.37, Clsf_acc: 0.68\n",
      "Epoch: 1 | Iter: 375\n",
      "[Test] Loss: 174.660, Clsf_loss: 79.76, Clsf_acc: 0.93\n",
      "Epoch: 1 | Iter: 380\n",
      "[Test] Loss: 150.663, Clsf_loss: 60.41, Clsf_acc: 0.88\n",
      "Epoch: 1 | Iter: 385\n",
      "[Test] Loss: 184.639, Clsf_loss: 100.97, Clsf_acc: 0.88\n"
     ]
    },
    {
     "name": "stderr",
     "output_type": "stream",
     "text": [
      "Traceback (most recent call last):\n",
      "  File \"<ipython-input-6-e1dd9347bfd5>\", line 72, in train\n",
      "    unsupervised_loss, _, _, _ = model(unsupervised_batch['data'], None, beta)\n",
      "  File \"/home/tsa87/miniconda3/envs/python2/lib/python2.7/site-packages/torch/nn/modules/module.py\", line 541, in __call__\n",
      "    result = self.forward(*input, **kwargs)\n",
      "  File \"fast_jtnn/jtnn_vae.py\", line 321, in forward\n",
      "    self._compute_partial_loss(y_batch, x_batch, x_tree_vecs, x_tree_mess, x_mol_vecs, x_jtmpn_holder, beta)\n",
      "  File \"fast_jtnn/jtnn_vae.py\", line 276, in _compute_partial_loss\n",
      "    word_loss, topo_loss, word_acc, topo_acc = self.decoder(x_batch, z_tree_vecs)\n",
      "  File \"/home/tsa87/miniconda3/envs/python2/lib/python2.7/site-packages/torch/nn/modules/module.py\", line 541, in __call__\n",
      "    result = self.forward(*input, **kwargs)\n",
      "  File \"fast_jtnn/jtnn_dec.py\", line 108, in forward\n",
      "    cur_h_nei = torch.stack(cur_h_nei, dim=0).view(-1,MAX_NB,self.hidden_size)\n",
      "RuntimeError: shape '[-1, 15, 56]' is invalid for input of size 896\n"
     ]
    },
    {
     "name": "stdout",
     "output_type": "stream",
     "text": [
      "Epoch: 1 | Iter: 390\n",
      "[Test] Loss: 206.547, Clsf_loss: 117.21, Clsf_acc: 0.65\n"
     ]
    },
    {
     "name": "stderr",
     "output_type": "stream",
     "text": [
      "Traceback (most recent call last):\n",
      "  File \"<ipython-input-6-e1dd9347bfd5>\", line 72, in train\n",
      "    unsupervised_loss, _, _, _ = model(unsupervised_batch['data'], None, beta)\n",
      "  File \"/home/tsa87/miniconda3/envs/python2/lib/python2.7/site-packages/torch/nn/modules/module.py\", line 541, in __call__\n",
      "    result = self.forward(*input, **kwargs)\n",
      "  File \"fast_jtnn/jtnn_vae.py\", line 321, in forward\n",
      "    self._compute_partial_loss(y_batch, x_batch, x_tree_vecs, x_tree_mess, x_mol_vecs, x_jtmpn_holder, beta)\n",
      "  File \"fast_jtnn/jtnn_vae.py\", line 276, in _compute_partial_loss\n",
      "    word_loss, topo_loss, word_acc, topo_acc = self.decoder(x_batch, z_tree_vecs)\n",
      "  File \"/home/tsa87/miniconda3/envs/python2/lib/python2.7/site-packages/torch/nn/modules/module.py\", line 541, in __call__\n",
      "    result = self.forward(*input, **kwargs)\n",
      "  File \"fast_jtnn/jtnn_dec.py\", line 113, in forward\n",
      "    cur_o_nei = torch.stack(cur_o_nei, dim=0).view(-1,MAX_NB,self.hidden_size)\n",
      "RuntimeError: shape '[-1, 15, 56]' is invalid for input of size 896\n"
     ]
    },
    {
     "name": "stdout",
     "output_type": "stream",
     "text": [
      "fast_molvae/tox21_processed/train/tensors-5.pkl opened\n",
      "Epoch: 1 | Iter: 395\n",
      "[Test] Loss: 159.760, Clsf_loss: 84.67, Clsf_acc: 0.68\n",
      "Saving model to data/tox21/model/model.iter-at step: 400\n"
     ]
    },
    {
     "name": "stderr",
     "output_type": "stream",
     "text": [
      "Traceback (most recent call last):\n",
      "  File \"<ipython-input-6-e1dd9347bfd5>\", line 86, in train\n",
      "    torch.save(model.state_dict(), save_dir + \"/model.iter-\" + str(total_step))\n",
      "  File \"/home/tsa87/miniconda3/envs/python2/lib/python2.7/site-packages/torch/serialization.py\", line 260, in save\n",
      "    return _with_file_like(f, \"wb\", lambda f: _save(obj, f, pickle_module, pickle_protocol))\n",
      "  File \"/home/tsa87/miniconda3/envs/python2/lib/python2.7/site-packages/torch/serialization.py\", line 183, in _with_file_like\n",
      "    f = open(f, mode)\n",
      "IOError: [Errno 2] No such file or directory: 'data/tox21/model/model.iter-400'\n"
     ]
    },
    {
     "name": "stdout",
     "output_type": "stream",
     "text": [
      "Epoch: 1 | Iter: 405\n",
      "[Test] Loss: 415.525, Clsf_loss: 221.34, Clsf_acc: 1.48\n",
      "Epoch: 1 | Iter: 410\n",
      "[Test] Loss: 171.731, Clsf_loss: 89.33, Clsf_acc: 0.85\n",
      "fast_molvae/tox21_processed/test/tensors-10.pkl opened\n",
      "fast_molvae/tox21_processed/test/tensors-9.pkl opened\n",
      "              precision    recall  f1-score   support\n",
      "\n",
      "         0.0       0.95      0.62      0.75       164\n",
      "         1.0       0.27      0.82      0.40        28\n",
      "\n",
      "   micro avg       0.65      0.65      0.65       192\n",
      "   macro avg       0.61      0.72      0.58       192\n",
      "weighted avg       0.85      0.65      0.70       192\n",
      "\n",
      "time: 36 m 41 s\n",
      "[Test] Loss: 91.445, Clsf_loss: 60.47\n",
      "fast_molvae/tox21_processed/train/tensors-6.pkl opened\n",
      "Epoch: 2 | Iter: 415\n",
      "[Test] Loss: 38.414, Clsf_loss: 16.23, Clsf_acc: 0.15\n",
      "Epoch: 2 | Iter: 420\n",
      "[Test] Loss: 191.631, Clsf_loss: 93.90, Clsf_acc: 0.68\n",
      "Epoch: 2 | Iter: 425\n",
      "[Test] Loss: 195.805, Clsf_loss: 98.35, Clsf_acc: 0.68\n",
      "Epoch: 2 | Iter: 430\n",
      "[Test] Loss: 219.654, Clsf_loss: 126.47, Clsf_acc: 0.72\n",
      "Epoch: 2 | Iter: 435\n",
      "[Test] Loss: 191.028, Clsf_loss: 94.28, Clsf_acc: 0.72\n",
      "learning rate: 0.000314\n",
      "Epoch: 2 | Iter: 440\n",
      "[Test] Loss: 208.844, Clsf_loss: 112.18, Clsf_acc: 0.60\n",
      "fast_molvae/tox21_processed/train/tensors-4.pkl opened\n",
      "Epoch: 2 | Iter: 445\n",
      "[Test] Loss: 174.526, Clsf_loss: 83.86, Clsf_acc: 0.68\n",
      "Saving model to data/tox21/model/model.iter-at step: 450\n"
     ]
    },
    {
     "name": "stderr",
     "output_type": "stream",
     "text": [
      "Traceback (most recent call last):\n",
      "  File \"<ipython-input-6-e1dd9347bfd5>\", line 86, in train\n",
      "    torch.save(model.state_dict(), save_dir + \"/model.iter-\" + str(total_step))\n",
      "  File \"/home/tsa87/miniconda3/envs/python2/lib/python2.7/site-packages/torch/serialization.py\", line 260, in save\n",
      "    return _with_file_like(f, \"wb\", lambda f: _save(obj, f, pickle_module, pickle_protocol))\n",
      "  File \"/home/tsa87/miniconda3/envs/python2/lib/python2.7/site-packages/torch/serialization.py\", line 183, in _with_file_like\n",
      "    f = open(f, mode)\n",
      "IOError: [Errno 2] No such file or directory: 'data/tox21/model/model.iter-450'\n"
     ]
    },
    {
     "name": "stdout",
     "output_type": "stream",
     "text": [
      "Epoch: 2 | Iter: 455\n",
      "[Test] Loss: 346.337, Clsf_loss: 169.19, Clsf_acc: 1.73\n"
     ]
    },
    {
     "name": "stderr",
     "output_type": "stream",
     "text": [
      "Traceback (most recent call last):\n",
      "  File \"<ipython-input-6-e1dd9347bfd5>\", line 72, in train\n",
      "    unsupervised_loss, _, _, _ = model(unsupervised_batch['data'], None, beta)\n",
      "  File \"/home/tsa87/miniconda3/envs/python2/lib/python2.7/site-packages/torch/nn/modules/module.py\", line 541, in __call__\n",
      "    result = self.forward(*input, **kwargs)\n",
      "  File \"fast_jtnn/jtnn_vae.py\", line 321, in forward\n",
      "    self._compute_partial_loss(y_batch, x_batch, x_tree_vecs, x_tree_mess, x_mol_vecs, x_jtmpn_holder, beta)\n",
      "  File \"fast_jtnn/jtnn_vae.py\", line 276, in _compute_partial_loss\n",
      "    word_loss, topo_loss, word_acc, topo_acc = self.decoder(x_batch, z_tree_vecs)\n",
      "  File \"/home/tsa87/miniconda3/envs/python2/lib/python2.7/site-packages/torch/nn/modules/module.py\", line 541, in __call__\n",
      "    result = self.forward(*input, **kwargs)\n",
      "  File \"fast_jtnn/jtnn_dec.py\", line 113, in forward\n",
      "    cur_o_nei = torch.stack(cur_o_nei, dim=0).view(-1,MAX_NB,self.hidden_size)\n",
      "RuntimeError: shape '[-1, 15, 56]' is invalid for input of size 2576\n"
     ]
    },
    {
     "name": "stdout",
     "output_type": "stream",
     "text": [
      "Epoch: 2 | Iter: 460\n",
      "[Test] Loss: 139.759, Clsf_loss: 65.00, Clsf_acc: 0.72\n",
      "Epoch: 2 | Iter: 465\n",
      "[Test] Loss: 198.362, Clsf_loss: 104.06, Clsf_acc: 0.75\n",
      "fast_molvae/tox21_processed/train/tensors-2.pkl opened\n",
      "Epoch: 2 | Iter: 470\n",
      "[Test] Loss: 200.739, Clsf_loss: 104.34, Clsf_acc: 0.68\n"
     ]
    },
    {
     "name": "stderr",
     "output_type": "stream",
     "text": [
      "Traceback (most recent call last):\n",
      "  File \"<ipython-input-6-e1dd9347bfd5>\", line 72, in train\n",
      "    unsupervised_loss, _, _, _ = model(unsupervised_batch['data'], None, beta)\n",
      "  File \"/home/tsa87/miniconda3/envs/python2/lib/python2.7/site-packages/torch/nn/modules/module.py\", line 541, in __call__\n",
      "    result = self.forward(*input, **kwargs)\n",
      "  File \"fast_jtnn/jtnn_vae.py\", line 321, in forward\n",
      "    self._compute_partial_loss(y_batch, x_batch, x_tree_vecs, x_tree_mess, x_mol_vecs, x_jtmpn_holder, beta)\n",
      "  File \"fast_jtnn/jtnn_vae.py\", line 276, in _compute_partial_loss\n",
      "    word_loss, topo_loss, word_acc, topo_acc = self.decoder(x_batch, z_tree_vecs)\n",
      "  File \"/home/tsa87/miniconda3/envs/python2/lib/python2.7/site-packages/torch/nn/modules/module.py\", line 541, in __call__\n",
      "    result = self.forward(*input, **kwargs)\n",
      "  File \"fast_jtnn/jtnn_dec.py\", line 108, in forward\n",
      "    cur_h_nei = torch.stack(cur_h_nei, dim=0).view(-1,MAX_NB,self.hidden_size)\n",
      "RuntimeError: shape '[-1, 15, 56]' is invalid for input of size 896\n"
     ]
    },
    {
     "name": "stdout",
     "output_type": "stream",
     "text": [
      "Epoch: 2 | Iter: 475\n",
      "[Test] Loss: 174.853, Clsf_loss: 104.64, Clsf_acc: 0.50\n",
      "learning rate: 0.000282\n",
      "Epoch: 2 | Iter: 480\n",
      "[Test] Loss: 189.658, Clsf_loss: 95.20, Clsf_acc: 0.78\n",
      "Epoch: 2 | Iter: 485\n",
      "[Test] Loss: 166.043, Clsf_loss: 72.22, Clsf_acc: 0.68\n",
      "Epoch: 2 | Iter: 490\n",
      "[Test] Loss: 188.483, Clsf_loss: 92.83, Clsf_acc: 0.70\n",
      "Epoch: 2 | Iter: 495\n",
      "[Test] Loss: 197.523, Clsf_loss: 110.48, Clsf_acc: 0.85\n",
      "fast_molvae/tox21_processed/train/tensors-1.pkl opened\n",
      "Saving model to data/tox21/model/model.iter-at step: 500\n"
     ]
    },
    {
     "name": "stderr",
     "output_type": "stream",
     "text": [
      "Traceback (most recent call last):\n",
      "  File \"<ipython-input-6-e1dd9347bfd5>\", line 86, in train\n",
      "    torch.save(model.state_dict(), save_dir + \"/model.iter-\" + str(total_step))\n",
      "  File \"/home/tsa87/miniconda3/envs/python2/lib/python2.7/site-packages/torch/serialization.py\", line 260, in save\n",
      "    return _with_file_like(f, \"wb\", lambda f: _save(obj, f, pickle_module, pickle_protocol))\n",
      "  File \"/home/tsa87/miniconda3/envs/python2/lib/python2.7/site-packages/torch/serialization.py\", line 183, in _with_file_like\n",
      "    f = open(f, mode)\n",
      "IOError: [Errno 2] No such file or directory: 'data/tox21/model/model.iter-500'\n"
     ]
    },
    {
     "name": "stdout",
     "output_type": "stream",
     "text": [
      "Epoch: 2 | Iter: 505\n",
      "[Test] Loss: 357.640, Clsf_loss: 161.64, Clsf_acc: 1.65\n",
      "Epoch: 2 | Iter: 510\n",
      "[Test] Loss: 148.543, Clsf_loss: 74.48, Clsf_acc: 1.00\n",
      "Epoch: 2 | Iter: 515\n",
      "[Test] Loss: 202.320, Clsf_loss: 121.22, Clsf_acc: 0.78\n",
      "learning rate: 0.000254\n",
      "Epoch: 2 | Iter: 520\n",
      "[Test] Loss: 187.427, Clsf_loss: 100.39, Clsf_acc: 0.78\n",
      "fast_molvae/tox21_processed/train/tensors-7.pkl opened\n",
      "Epoch: 2 | Iter: 525\n",
      "[Test] Loss: 209.135, Clsf_loss: 115.60, Clsf_acc: 0.75\n",
      "Epoch: 2 | Iter: 530\n",
      "[Test] Loss: 203.975, Clsf_loss: 109.42, Clsf_acc: 0.75\n",
      "Epoch: 2 | Iter: 535\n",
      "[Test] Loss: 179.405, Clsf_loss: 88.44, Clsf_acc: 0.72\n",
      "Epoch: 2 | Iter: 540\n",
      "[Test] Loss: 180.439, Clsf_loss: 87.17, Clsf_acc: 0.72\n",
      "Epoch: 2 | Iter: 545\n",
      "[Test] Loss: 200.776, Clsf_loss: 117.75, Clsf_acc: 0.68\n",
      "fast_molvae/tox21_processed/train/tensors-3.pkl opened\n"
     ]
    },
    {
     "name": "stderr",
     "output_type": "stream",
     "text": [
      "Traceback (most recent call last):\n",
      "  File \"<ipython-input-6-e1dd9347bfd5>\", line 72, in train\n",
      "    unsupervised_loss, _, _, _ = model(unsupervised_batch['data'], None, beta)\n",
      "  File \"/home/tsa87/miniconda3/envs/python2/lib/python2.7/site-packages/torch/nn/modules/module.py\", line 541, in __call__\n",
      "    result = self.forward(*input, **kwargs)\n",
      "  File \"fast_jtnn/jtnn_vae.py\", line 321, in forward\n",
      "    self._compute_partial_loss(y_batch, x_batch, x_tree_vecs, x_tree_mess, x_mol_vecs, x_jtmpn_holder, beta)\n",
      "  File \"fast_jtnn/jtnn_vae.py\", line 276, in _compute_partial_loss\n",
      "    word_loss, topo_loss, word_acc, topo_acc = self.decoder(x_batch, z_tree_vecs)\n",
      "  File \"/home/tsa87/miniconda3/envs/python2/lib/python2.7/site-packages/torch/nn/modules/module.py\", line 541, in __call__\n",
      "    result = self.forward(*input, **kwargs)\n",
      "  File \"fast_jtnn/jtnn_dec.py\", line 113, in forward\n",
      "    cur_o_nei = torch.stack(cur_o_nei, dim=0).view(-1,MAX_NB,self.hidden_size)\n",
      "RuntimeError: shape '[-1, 15, 56]' is invalid for input of size 896\n"
     ]
    },
    {
     "name": "stdout",
     "output_type": "stream",
     "text": [
      "Epoch: 2 | Iter: 555\n",
      "[Test] Loss: 290.041, Clsf_loss: 145.44, Clsf_acc: 1.48\n",
      "learning rate: 0.000229\n",
      "Epoch: 2 | Iter: 560\n",
      "[Test] Loss: 183.031, Clsf_loss: 88.33, Clsf_acc: 0.82\n",
      "Epoch: 2 | Iter: 565\n",
      "[Test] Loss: 156.594, Clsf_loss: 74.86, Clsf_acc: 0.88\n",
      "Epoch: 2 | Iter: 570\n",
      "[Test] Loss: 185.802, Clsf_loss: 94.77, Clsf_acc: 0.82\n",
      "fast_molvae/tox21_processed/train/tensors-8.pkl opened\n",
      "Epoch: 2 | Iter: 575\n",
      "[Test] Loss: 231.619, Clsf_loss: 134.96, Clsf_acc: 0.75\n",
      "Epoch: 2 | Iter: 580\n",
      "[Test] Loss: 176.059, Clsf_loss: 93.48, Clsf_acc: 0.82\n",
      "Epoch: 2 | Iter: 585\n",
      "[Test] Loss: 224.223, Clsf_loss: 125.13, Clsf_acc: 0.70\n",
      "Epoch: 2 | Iter: 590\n",
      "[Test] Loss: 187.264, Clsf_loss: 94.84, Clsf_acc: 0.62\n"
     ]
    },
    {
     "name": "stderr",
     "output_type": "stream",
     "text": [
      "Traceback (most recent call last):\n",
      "  File \"<ipython-input-6-e1dd9347bfd5>\", line 72, in train\n",
      "    unsupervised_loss, _, _, _ = model(unsupervised_batch['data'], None, beta)\n",
      "  File \"/home/tsa87/miniconda3/envs/python2/lib/python2.7/site-packages/torch/nn/modules/module.py\", line 541, in __call__\n",
      "    result = self.forward(*input, **kwargs)\n",
      "  File \"fast_jtnn/jtnn_vae.py\", line 321, in forward\n",
      "    self._compute_partial_loss(y_batch, x_batch, x_tree_vecs, x_tree_mess, x_mol_vecs, x_jtmpn_holder, beta)\n",
      "  File \"fast_jtnn/jtnn_vae.py\", line 276, in _compute_partial_loss\n",
      "    word_loss, topo_loss, word_acc, topo_acc = self.decoder(x_batch, z_tree_vecs)\n",
      "  File \"/home/tsa87/miniconda3/envs/python2/lib/python2.7/site-packages/torch/nn/modules/module.py\", line 541, in __call__\n",
      "    result = self.forward(*input, **kwargs)\n",
      "  File \"fast_jtnn/jtnn_dec.py\", line 113, in forward\n",
      "    cur_o_nei = torch.stack(cur_o_nei, dim=0).view(-1,MAX_NB,self.hidden_size)\n",
      "RuntimeError: shape '[-1, 15, 56]' is invalid for input of size 2576\n"
     ]
    },
    {
     "name": "stdout",
     "output_type": "stream",
     "text": [
      "Epoch: 2 | Iter: 595\n",
      "[Test] Loss: 120.662, Clsf_loss: 57.30, Clsf_acc: 0.60\n"
     ]
    },
    {
     "name": "stderr",
     "output_type": "stream",
     "text": [
      "Traceback (most recent call last):\n",
      "  File \"<ipython-input-6-e1dd9347bfd5>\", line 72, in train\n",
      "    unsupervised_loss, _, _, _ = model(unsupervised_batch['data'], None, beta)\n",
      "  File \"/home/tsa87/miniconda3/envs/python2/lib/python2.7/site-packages/torch/nn/modules/module.py\", line 541, in __call__\n",
      "    result = self.forward(*input, **kwargs)\n",
      "  File \"fast_jtnn/jtnn_vae.py\", line 321, in forward\n",
      "    self._compute_partial_loss(y_batch, x_batch, x_tree_vecs, x_tree_mess, x_mol_vecs, x_jtmpn_holder, beta)\n",
      "  File \"fast_jtnn/jtnn_vae.py\", line 276, in _compute_partial_loss\n",
      "    word_loss, topo_loss, word_acc, topo_acc = self.decoder(x_batch, z_tree_vecs)\n",
      "  File \"/home/tsa87/miniconda3/envs/python2/lib/python2.7/site-packages/torch/nn/modules/module.py\", line 541, in __call__\n",
      "    result = self.forward(*input, **kwargs)\n",
      "  File \"fast_jtnn/jtnn_dec.py\", line 108, in forward\n",
      "    cur_h_nei = torch.stack(cur_h_nei, dim=0).view(-1,MAX_NB,self.hidden_size)\n",
      "RuntimeError: shape '[-1, 15, 56]' is invalid for input of size 896\n"
     ]
    },
    {
     "name": "stdout",
     "output_type": "stream",
     "text": [
      "fast_molvae/tox21_processed/train/tensors-5.pkl opened\n",
      "Saving model to data/tox21/model/model.iter-at step: 600\n"
     ]
    },
    {
     "name": "stderr",
     "output_type": "stream",
     "text": [
      "Traceback (most recent call last):\n",
      "  File \"<ipython-input-6-e1dd9347bfd5>\", line 86, in train\n",
      "    torch.save(model.state_dict(), save_dir + \"/model.iter-\" + str(total_step))\n",
      "  File \"/home/tsa87/miniconda3/envs/python2/lib/python2.7/site-packages/torch/serialization.py\", line 260, in save\n",
      "    return _with_file_like(f, \"wb\", lambda f: _save(obj, f, pickle_module, pickle_protocol))\n",
      "  File \"/home/tsa87/miniconda3/envs/python2/lib/python2.7/site-packages/torch/serialization.py\", line 183, in _with_file_like\n",
      "    f = open(f, mode)\n",
      "IOError: [Errno 2] No such file or directory: 'data/tox21/model/model.iter-600'\n"
     ]
    },
    {
     "name": "stdout",
     "output_type": "stream",
     "text": [
      "Epoch: 2 | Iter: 605\n",
      "[Test] Loss: 396.239, Clsf_loss: 211.28, Clsf_acc: 1.25\n",
      "Epoch: 2 | Iter: 610\n",
      "[Test] Loss: 156.148, Clsf_loss: 71.98, Clsf_acc: 0.70\n",
      "Epoch: 2 | Iter: 615\n",
      "[Test] Loss: 175.516, Clsf_loss: 81.51, Clsf_acc: 0.70\n",
      "Epoch: 2 | Iter: 620\n",
      "[Test] Loss: 195.053, Clsf_loss: 100.20, Clsf_acc: 0.78\n",
      "fast_molvae/tox21_processed/test/tensors-10.pkl opened\n",
      "fast_molvae/tox21_processed/test/tensors-9.pkl opened\n",
      "              precision    recall  f1-score   support\n",
      "\n",
      "         0.0       0.92      0.71      0.80       164\n",
      "         1.0       0.27      0.64      0.38        28\n",
      "\n",
      "   micro avg       0.70      0.70      0.70       192\n",
      "   macro avg       0.60      0.68      0.59       192\n",
      "weighted avg       0.83      0.70      0.74       192\n",
      "\n",
      "time: 55 m 42 s\n",
      "[Test] Loss: 169.127, Clsf_loss: 121.31\n",
      "fast_molvae/tox21_processed/train/tensors-6.pkl opened\n",
      "Epoch: 3 | Iter: 625\n",
      "[Test] Loss: 135.404, Clsf_loss: 63.01, Clsf_acc: 0.70\n",
      "Epoch: 3 | Iter: 630\n",
      "[Test] Loss: 184.521, Clsf_loss: 94.90, Clsf_acc: 0.75\n",
      "Epoch: 3 | Iter: 635\n",
      "[Test] Loss: 173.903, Clsf_loss: 84.47, Clsf_acc: 0.85\n"
     ]
    },
    {
     "name": "stderr",
     "output_type": "stream",
     "text": [
      "Traceback (most recent call last):\n",
      "  File \"<ipython-input-6-e1dd9347bfd5>\", line 73, in train\n",
      "    supervised_loss, clsf_loss, clsf_acc, (pred, target) = model(supervised_batch['data'], labels, beta)\n",
      "  File \"/home/tsa87/miniconda3/envs/python2/lib/python2.7/site-packages/torch/nn/modules/module.py\", line 541, in __call__\n",
      "    result = self.forward(*input, **kwargs)\n",
      "  File \"fast_jtnn/jtnn_vae.py\", line 338, in forward\n",
      "    self._compute_partial_loss(y_batch, x_batch, x_tree_vecs, x_tree_mess, x_mol_vecs, x_jtmpn_holder, beta)\n",
      "  File \"fast_jtnn/jtnn_vae.py\", line 276, in _compute_partial_loss\n",
      "    word_loss, topo_loss, word_acc, topo_acc = self.decoder(x_batch, z_tree_vecs)\n",
      "  File \"/home/tsa87/miniconda3/envs/python2/lib/python2.7/site-packages/torch/nn/modules/module.py\", line 541, in __call__\n",
      "    result = self.forward(*input, **kwargs)\n",
      "  File \"fast_jtnn/jtnn_dec.py\", line 108, in forward\n",
      "    cur_h_nei = torch.stack(cur_h_nei, dim=0).view(-1,MAX_NB,self.hidden_size)\n",
      "RuntimeError: shape '[-1, 15, 56]' is invalid for input of size 1736\n"
     ]
    },
    {
     "name": "stdout",
     "output_type": "stream",
     "text": [
      "learning rate: 0.000185\n",
      "Epoch: 3 | Iter: 640\n",
      "[Test] Loss: 179.883, Clsf_loss: 97.68, Clsf_acc: 0.57\n",
      "Epoch: 3 | Iter: 645\n",
      "[Test] Loss: 184.729, Clsf_loss: 98.81, Clsf_acc: 0.72\n",
      "fast_molvae/tox21_processed/train/tensors-4.pkl opened\n",
      "Saving model to data/tox21/model/model.iter-at step: 650\n"
     ]
    },
    {
     "name": "stderr",
     "output_type": "stream",
     "text": [
      "Traceback (most recent call last):\n",
      "  File \"<ipython-input-6-e1dd9347bfd5>\", line 86, in train\n",
      "    torch.save(model.state_dict(), save_dir + \"/model.iter-\" + str(total_step))\n",
      "  File \"/home/tsa87/miniconda3/envs/python2/lib/python2.7/site-packages/torch/serialization.py\", line 260, in save\n",
      "    return _with_file_like(f, \"wb\", lambda f: _save(obj, f, pickle_module, pickle_protocol))\n",
      "  File \"/home/tsa87/miniconda3/envs/python2/lib/python2.7/site-packages/torch/serialization.py\", line 183, in _with_file_like\n",
      "    f = open(f, mode)\n",
      "IOError: [Errno 2] No such file or directory: 'data/tox21/model/model.iter-650'\n"
     ]
    },
    {
     "name": "stdout",
     "output_type": "stream",
     "text": [
      "Epoch: 3 | Iter: 655\n",
      "[Test] Loss: 386.481, Clsf_loss: 196.12, Clsf_acc: 1.35\n",
      "Epoch: 3 | Iter: 660\n",
      "[Test] Loss: 187.185, Clsf_loss: 100.29, Clsf_acc: 0.72\n",
      "Epoch: 3 | Iter: 665\n",
      "[Test] Loss: 212.031, Clsf_loss: 116.78, Clsf_acc: 0.68\n",
      "Epoch: 3 | Iter: 670\n",
      "[Test] Loss: 167.441, Clsf_loss: 84.98, Clsf_acc: 0.72\n"
     ]
    },
    {
     "name": "stderr",
     "output_type": "stream",
     "text": [
      "Traceback (most recent call last):\n",
      "  File \"<ipython-input-6-e1dd9347bfd5>\", line 72, in train\n",
      "    unsupervised_loss, _, _, _ = model(unsupervised_batch['data'], None, beta)\n",
      "  File \"/home/tsa87/miniconda3/envs/python2/lib/python2.7/site-packages/torch/nn/modules/module.py\", line 541, in __call__\n",
      "    result = self.forward(*input, **kwargs)\n",
      "  File \"fast_jtnn/jtnn_vae.py\", line 321, in forward\n",
      "    self._compute_partial_loss(y_batch, x_batch, x_tree_vecs, x_tree_mess, x_mol_vecs, x_jtmpn_holder, beta)\n",
      "  File \"fast_jtnn/jtnn_vae.py\", line 276, in _compute_partial_loss\n",
      "    word_loss, topo_loss, word_acc, topo_acc = self.decoder(x_batch, z_tree_vecs)\n",
      "  File \"/home/tsa87/miniconda3/envs/python2/lib/python2.7/site-packages/torch/nn/modules/module.py\", line 541, in __call__\n",
      "    result = self.forward(*input, **kwargs)\n",
      "  File \"fast_jtnn/jtnn_dec.py\", line 113, in forward\n",
      "    cur_o_nei = torch.stack(cur_o_nei, dim=0).view(-1,MAX_NB,self.hidden_size)\n",
      "RuntimeError: shape '[-1, 15, 56]' is invalid for input of size 1736\n"
     ]
    },
    {
     "name": "stdout",
     "output_type": "stream",
     "text": [
      "fast_molvae/tox21_processed/train/tensors-2.pkl opened\n",
      "Epoch: 3 | Iter: 675\n",
      "[Test] Loss: 152.404, Clsf_loss: 90.62, Clsf_acc: 0.57\n",
      "learning rate: 0.000167\n",
      "Epoch: 3 | Iter: 680\n",
      "[Test] Loss: 212.778, Clsf_loss: 118.69, Clsf_acc: 0.75\n",
      "Epoch: 3 | Iter: 685\n",
      "[Test] Loss: 195.911, Clsf_loss: 108.10, Clsf_acc: 0.75\n"
     ]
    },
    {
     "name": "stderr",
     "output_type": "stream",
     "text": [
      "Traceback (most recent call last):\n",
      "  File \"<ipython-input-6-e1dd9347bfd5>\", line 72, in train\n",
      "    unsupervised_loss, _, _, _ = model(unsupervised_batch['data'], None, beta)\n",
      "  File \"/home/tsa87/miniconda3/envs/python2/lib/python2.7/site-packages/torch/nn/modules/module.py\", line 541, in __call__\n",
      "    result = self.forward(*input, **kwargs)\n",
      "  File \"fast_jtnn/jtnn_vae.py\", line 321, in forward\n",
      "    self._compute_partial_loss(y_batch, x_batch, x_tree_vecs, x_tree_mess, x_mol_vecs, x_jtmpn_holder, beta)\n",
      "  File \"fast_jtnn/jtnn_vae.py\", line 276, in _compute_partial_loss\n",
      "    word_loss, topo_loss, word_acc, topo_acc = self.decoder(x_batch, z_tree_vecs)\n",
      "  File \"/home/tsa87/miniconda3/envs/python2/lib/python2.7/site-packages/torch/nn/modules/module.py\", line 541, in __call__\n",
      "    result = self.forward(*input, **kwargs)\n",
      "  File \"fast_jtnn/jtnn_dec.py\", line 108, in forward\n",
      "    cur_h_nei = torch.stack(cur_h_nei, dim=0).view(-1,MAX_NB,self.hidden_size)\n",
      "RuntimeError: shape '[-1, 15, 56]' is invalid for input of size 896\n"
     ]
    },
    {
     "name": "stdout",
     "output_type": "stream",
     "text": [
      "Epoch: 3 | Iter: 695\n",
      "[Test] Loss: 325.595, Clsf_loss: 169.97, Clsf_acc: 1.18\n",
      "Saving model to data/tox21/model/model.iter-at step: 700\n"
     ]
    },
    {
     "name": "stderr",
     "output_type": "stream",
     "text": [
      "Traceback (most recent call last):\n",
      "  File \"<ipython-input-6-e1dd9347bfd5>\", line 86, in train\n",
      "    torch.save(model.state_dict(), save_dir + \"/model.iter-\" + str(total_step))\n",
      "  File \"/home/tsa87/miniconda3/envs/python2/lib/python2.7/site-packages/torch/serialization.py\", line 260, in save\n",
      "    return _with_file_like(f, \"wb\", lambda f: _save(obj, f, pickle_module, pickle_protocol))\n",
      "  File \"/home/tsa87/miniconda3/envs/python2/lib/python2.7/site-packages/torch/serialization.py\", line 183, in _with_file_like\n",
      "    f = open(f, mode)\n",
      "IOError: [Errno 2] No such file or directory: 'data/tox21/model/model.iter-700'\n"
     ]
    },
    {
     "name": "stdout",
     "output_type": "stream",
     "text": [
      "fast_molvae/tox21_processed/train/tensors-1.pkl opened\n",
      "Epoch: 3 | Iter: 705\n",
      "[Test] Loss: 378.565, Clsf_loss: 204.48, Clsf_acc: 1.40\n",
      "Epoch: 3 | Iter: 710\n",
      "[Test] Loss: 169.752, Clsf_loss: 90.43, Clsf_acc: 0.82\n",
      "Epoch: 3 | Iter: 715\n",
      "[Test] Loss: 137.956, Clsf_loss: 57.44, Clsf_acc: 0.90\n",
      "learning rate: 0.000150\n",
      "Epoch: 3 | Iter: 720\n",
      "[Test] Loss: 184.318, Clsf_loss: 98.91, Clsf_acc: 0.85\n",
      "Epoch: 3 | Iter: 725\n",
      "[Test] Loss: 163.234, Clsf_loss: 81.04, Clsf_acc: 0.85\n",
      "fast_molvae/tox21_processed/train/tensors-7.pkl opened\n",
      "Epoch: 3 | Iter: 730\n",
      "[Test] Loss: 198.362, Clsf_loss: 107.73, Clsf_acc: 0.85\n",
      "Epoch: 3 | Iter: 735\n",
      "[Test] Loss: 217.466, Clsf_loss: 112.35, Clsf_acc: 0.88\n",
      "Epoch: 3 | Iter: 740\n",
      "[Test] Loss: 185.690, Clsf_loss: 96.57, Clsf_acc: 0.85\n",
      "Epoch: 3 | Iter: 745\n",
      "[Test] Loss: 168.712, Clsf_loss: 85.53, Clsf_acc: 0.93\n"
     ]
    },
    {
     "name": "stderr",
     "output_type": "stream",
     "text": [
      "Traceback (most recent call last):\n",
      "  File \"<ipython-input-6-e1dd9347bfd5>\", line 73, in train\n",
      "    supervised_loss, clsf_loss, clsf_acc, (pred, target) = model(supervised_batch['data'], labels, beta)\n",
      "  File \"/home/tsa87/miniconda3/envs/python2/lib/python2.7/site-packages/torch/nn/modules/module.py\", line 541, in __call__\n",
      "    result = self.forward(*input, **kwargs)\n",
      "  File \"fast_jtnn/jtnn_vae.py\", line 338, in forward\n",
      "    self._compute_partial_loss(y_batch, x_batch, x_tree_vecs, x_tree_mess, x_mol_vecs, x_jtmpn_holder, beta)\n",
      "  File \"fast_jtnn/jtnn_vae.py\", line 276, in _compute_partial_loss\n",
      "    word_loss, topo_loss, word_acc, topo_acc = self.decoder(x_batch, z_tree_vecs)\n",
      "  File \"/home/tsa87/miniconda3/envs/python2/lib/python2.7/site-packages/torch/nn/modules/module.py\", line 541, in __call__\n",
      "    result = self.forward(*input, **kwargs)\n",
      "  File \"fast_jtnn/jtnn_dec.py\", line 108, in forward\n",
      "    cur_h_nei = torch.stack(cur_h_nei, dim=0).view(-1,MAX_NB,self.hidden_size)\n",
      "RuntimeError: shape '[-1, 15, 56]' is invalid for input of size 896\n"
     ]
    },
    {
     "name": "stdout",
     "output_type": "stream",
     "text": [
      "Epoch: 3 | Iter: 755\n",
      "[Test] Loss: 303.593, Clsf_loss: 142.84, Clsf_acc: 1.43\n",
      "fast_molvae/tox21_processed/train/tensors-3.pkl opened\n"
     ]
    },
    {
     "name": "stderr",
     "output_type": "stream",
     "text": [
      "Traceback (most recent call last):\n",
      "  File \"<ipython-input-6-e1dd9347bfd5>\", line 72, in train\n",
      "    unsupervised_loss, _, _, _ = model(unsupervised_batch['data'], None, beta)\n",
      "  File \"/home/tsa87/miniconda3/envs/python2/lib/python2.7/site-packages/torch/nn/modules/module.py\", line 541, in __call__\n",
      "    result = self.forward(*input, **kwargs)\n",
      "  File \"fast_jtnn/jtnn_vae.py\", line 321, in forward\n",
      "    self._compute_partial_loss(y_batch, x_batch, x_tree_vecs, x_tree_mess, x_mol_vecs, x_jtmpn_holder, beta)\n",
      "  File \"fast_jtnn/jtnn_vae.py\", line 276, in _compute_partial_loss\n",
      "    word_loss, topo_loss, word_acc, topo_acc = self.decoder(x_batch, z_tree_vecs)\n",
      "  File \"/home/tsa87/miniconda3/envs/python2/lib/python2.7/site-packages/torch/nn/modules/module.py\", line 541, in __call__\n",
      "    result = self.forward(*input, **kwargs)\n",
      "  File \"fast_jtnn/jtnn_dec.py\", line 113, in forward\n",
      "    cur_o_nei = torch.stack(cur_o_nei, dim=0).view(-1,MAX_NB,self.hidden_size)\n",
      "RuntimeError: shape '[-1, 15, 56]' is invalid for input of size 1736\n"
     ]
    },
    {
     "name": "stdout",
     "output_type": "stream",
     "text": [
      "learning rate: 0.000135\n",
      "Epoch: 3 | Iter: 760\n",
      "[Test] Loss: 142.361, Clsf_loss: 77.32, Clsf_acc: 0.62\n",
      "Epoch: 3 | Iter: 765\n",
      "[Test] Loss: 153.718, Clsf_loss: 71.11, Clsf_acc: 0.95\n",
      "Epoch: 3 | Iter: 770\n",
      "[Test] Loss: 192.565, Clsf_loss: 107.69, Clsf_acc: 0.75\n",
      "Epoch: 3 | Iter: 775\n",
      "[Test] Loss: 194.105, Clsf_loss: 98.97, Clsf_acc: 0.80\n",
      "Epoch: 3 | Iter: 780\n",
      "[Test] Loss: 170.778, Clsf_loss: 84.02, Clsf_acc: 0.82\n",
      "fast_molvae/tox21_processed/train/tensors-8.pkl opened\n"
     ]
    },
    {
     "name": "stderr",
     "output_type": "stream",
     "text": [
      "Traceback (most recent call last):\n",
      "  File \"<ipython-input-6-e1dd9347bfd5>\", line 72, in train\n",
      "    unsupervised_loss, _, _, _ = model(unsupervised_batch['data'], None, beta)\n",
      "  File \"/home/tsa87/miniconda3/envs/python2/lib/python2.7/site-packages/torch/nn/modules/module.py\", line 541, in __call__\n",
      "    result = self.forward(*input, **kwargs)\n",
      "  File \"fast_jtnn/jtnn_vae.py\", line 321, in forward\n",
      "    self._compute_partial_loss(y_batch, x_batch, x_tree_vecs, x_tree_mess, x_mol_vecs, x_jtmpn_holder, beta)\n",
      "  File \"fast_jtnn/jtnn_vae.py\", line 276, in _compute_partial_loss\n",
      "    word_loss, topo_loss, word_acc, topo_acc = self.decoder(x_batch, z_tree_vecs)\n",
      "  File \"/home/tsa87/miniconda3/envs/python2/lib/python2.7/site-packages/torch/nn/modules/module.py\", line 541, in __call__\n",
      "    result = self.forward(*input, **kwargs)\n",
      "  File \"fast_jtnn/jtnn_dec.py\", line 113, in forward\n",
      "    cur_o_nei = torch.stack(cur_o_nei, dim=0).view(-1,MAX_NB,self.hidden_size)\n",
      "RuntimeError: shape '[-1, 15, 56]' is invalid for input of size 3416\n"
     ]
    },
    {
     "name": "stdout",
     "output_type": "stream",
     "text": [
      "Epoch: 3 | Iter: 785\n",
      "[Test] Loss: 173.049, Clsf_loss: 86.05, Clsf_acc: 0.55\n",
      "Epoch: 3 | Iter: 790\n",
      "[Test] Loss: 170.717, Clsf_loss: 89.73, Clsf_acc: 0.78\n"
     ]
    },
    {
     "name": "stderr",
     "output_type": "stream",
     "text": [
      "Traceback (most recent call last):\n",
      "  File \"<ipython-input-6-e1dd9347bfd5>\", line 72, in train\n",
      "    unsupervised_loss, _, _, _ = model(unsupervised_batch['data'], None, beta)\n",
      "  File \"/home/tsa87/miniconda3/envs/python2/lib/python2.7/site-packages/torch/nn/modules/module.py\", line 541, in __call__\n",
      "    result = self.forward(*input, **kwargs)\n",
      "  File \"fast_jtnn/jtnn_vae.py\", line 321, in forward\n",
      "    self._compute_partial_loss(y_batch, x_batch, x_tree_vecs, x_tree_mess, x_mol_vecs, x_jtmpn_holder, beta)\n",
      "  File \"fast_jtnn/jtnn_vae.py\", line 276, in _compute_partial_loss\n",
      "    word_loss, topo_loss, word_acc, topo_acc = self.decoder(x_batch, z_tree_vecs)\n",
      "  File \"/home/tsa87/miniconda3/envs/python2/lib/python2.7/site-packages/torch/nn/modules/module.py\", line 541, in __call__\n",
      "    result = self.forward(*input, **kwargs)\n",
      "  File \"fast_jtnn/jtnn_dec.py\", line 108, in forward\n",
      "    cur_h_nei = torch.stack(cur_h_nei, dim=0).view(-1,MAX_NB,self.hidden_size)\n",
      "RuntimeError: shape '[-1, 15, 56]' is invalid for input of size 896\n"
     ]
    },
    {
     "name": "stdout",
     "output_type": "stream",
     "text": [
      "Epoch: 3 | Iter: 795\n",
      "[Test] Loss: 123.230, Clsf_loss: 53.75, Clsf_acc: 0.57\n",
      "Saving model to data/tox21/model/model.iter-at step: 800\n"
     ]
    },
    {
     "name": "stderr",
     "output_type": "stream",
     "text": [
      "Traceback (most recent call last):\n",
      "  File \"<ipython-input-6-e1dd9347bfd5>\", line 86, in train\n",
      "    torch.save(model.state_dict(), save_dir + \"/model.iter-\" + str(total_step))\n",
      "  File \"/home/tsa87/miniconda3/envs/python2/lib/python2.7/site-packages/torch/serialization.py\", line 260, in save\n",
      "    return _with_file_like(f, \"wb\", lambda f: _save(obj, f, pickle_module, pickle_protocol))\n",
      "  File \"/home/tsa87/miniconda3/envs/python2/lib/python2.7/site-packages/torch/serialization.py\", line 183, in _with_file_like\n",
      "    f = open(f, mode)\n",
      "IOError: [Errno 2] No such file or directory: 'data/tox21/model/model.iter-800'\n"
     ]
    },
    {
     "name": "stdout",
     "output_type": "stream",
     "text": [
      "Epoch: 3 | Iter: 805\n",
      "[Test] Loss: 370.274, Clsf_loss: 184.92, Clsf_acc: 1.40\n",
      "fast_molvae/tox21_processed/train/tensors-5.pkl opened\n",
      "Epoch: 3 | Iter: 810\n",
      "[Test] Loss: 168.906, Clsf_loss: 81.18, Clsf_acc: 0.70\n",
      "Epoch: 3 | Iter: 815\n",
      "[Test] Loss: 199.866, Clsf_loss: 101.74, Clsf_acc: 0.80\n",
      "Epoch: 3 | Iter: 820\n",
      "[Test] Loss: 189.018, Clsf_loss: 91.52, Clsf_acc: 0.80\n",
      "Epoch: 3 | Iter: 825\n",
      "[Test] Loss: 190.163, Clsf_loss: 102.12, Clsf_acc: 0.82\n",
      "fast_molvae/tox21_processed/test/tensors-10.pkl opened\n",
      "fast_molvae/tox21_processed/test/tensors-9.pkl opened\n",
      "              precision    recall  f1-score   support\n",
      "\n",
      "         0.0       0.94      0.72      0.81       172\n",
      "         1.0       0.20      0.60      0.30        20\n",
      "\n",
      "   micro avg       0.70      0.70      0.70       192\n",
      "   macro avg       0.57      0.66      0.55       192\n",
      "weighted avg       0.86      0.70      0.76       192\n",
      "\n",
      "time: 73 m 4 s\n",
      "[Test] Loss: 104.068, Clsf_loss: 58.79\n",
      "fast_molvae/tox21_processed/train/tensors-6.pkl opened\n",
      "Epoch: 4 | Iter: 830\n",
      "[Test] Loss: 90.741, Clsf_loss: 53.19, Clsf_acc: 0.33\n",
      "Epoch: 4 | Iter: 835\n",
      "[Test] Loss: 180.905, Clsf_loss: 91.71, Clsf_acc: 0.70\n",
      "learning rate: 0.000109\n",
      "Epoch: 4 | Iter: 840\n",
      "[Test] Loss: 196.368, Clsf_loss: 100.96, Clsf_acc: 0.62\n"
     ]
    },
    {
     "name": "stderr",
     "output_type": "stream",
     "text": [
      "Traceback (most recent call last):\n",
      "  File \"<ipython-input-6-e1dd9347bfd5>\", line 73, in train\n",
      "    supervised_loss, clsf_loss, clsf_acc, (pred, target) = model(supervised_batch['data'], labels, beta)\n",
      "  File \"/home/tsa87/miniconda3/envs/python2/lib/python2.7/site-packages/torch/nn/modules/module.py\", line 541, in __call__\n",
      "    result = self.forward(*input, **kwargs)\n",
      "  File \"fast_jtnn/jtnn_vae.py\", line 338, in forward\n",
      "    self._compute_partial_loss(y_batch, x_batch, x_tree_vecs, x_tree_mess, x_mol_vecs, x_jtmpn_holder, beta)\n",
      "  File \"fast_jtnn/jtnn_vae.py\", line 276, in _compute_partial_loss\n",
      "    word_loss, topo_loss, word_acc, topo_acc = self.decoder(x_batch, z_tree_vecs)\n",
      "  File \"/home/tsa87/miniconda3/envs/python2/lib/python2.7/site-packages/torch/nn/modules/module.py\", line 541, in __call__\n",
      "    result = self.forward(*input, **kwargs)\n",
      "  File \"fast_jtnn/jtnn_dec.py\", line 108, in forward\n",
      "    cur_h_nei = torch.stack(cur_h_nei, dim=0).view(-1,MAX_NB,self.hidden_size)\n",
      "RuntimeError: shape '[-1, 15, 56]' is invalid for input of size 896\n"
     ]
    },
    {
     "name": "stdout",
     "output_type": "stream",
     "text": [
      "Epoch: 4 | Iter: 845\n",
      "[Test] Loss: 122.426, Clsf_loss: 57.45, Clsf_acc: 0.68\n",
      "Saving model to data/tox21/model/model.iter-at step: 850\n"
     ]
    },
    {
     "name": "stderr",
     "output_type": "stream",
     "text": [
      "Traceback (most recent call last):\n",
      "  File \"<ipython-input-6-e1dd9347bfd5>\", line 86, in train\n",
      "    torch.save(model.state_dict(), save_dir + \"/model.iter-\" + str(total_step))\n",
      "  File \"/home/tsa87/miniconda3/envs/python2/lib/python2.7/site-packages/torch/serialization.py\", line 260, in save\n",
      "    return _with_file_like(f, \"wb\", lambda f: _save(obj, f, pickle_module, pickle_protocol))\n",
      "  File \"/home/tsa87/miniconda3/envs/python2/lib/python2.7/site-packages/torch/serialization.py\", line 183, in _with_file_like\n",
      "    f = open(f, mode)\n",
      "IOError: [Errno 2] No such file or directory: 'data/tox21/model/model.iter-850'\n"
     ]
    },
    {
     "name": "stdout",
     "output_type": "stream",
     "text": [
      "Epoch: 4 | Iter: 855\n",
      "[Test] Loss: 369.247, Clsf_loss: 179.18, Clsf_acc: 1.55\n",
      "fast_molvae/tox21_processed/train/tensors-4.pkl opened\n",
      "Epoch: 4 | Iter: 860\n",
      "[Test] Loss: 175.351, Clsf_loss: 93.96, Clsf_acc: 0.70\n",
      "Epoch: 4 | Iter: 865\n",
      "[Test] Loss: 176.232, Clsf_loss: 89.22, Clsf_acc: 0.78\n",
      "Epoch: 4 | Iter: 870\n",
      "[Test] Loss: 160.456, Clsf_loss: 79.37, Clsf_acc: 0.72\n",
      "Epoch: 4 | Iter: 875\n",
      "[Test] Loss: 189.972, Clsf_loss: 102.36, Clsf_acc: 0.78\n"
     ]
    },
    {
     "name": "stderr",
     "output_type": "stream",
     "text": [
      "Traceback (most recent call last):\n",
      "  File \"<ipython-input-6-e1dd9347bfd5>\", line 72, in train\n",
      "    unsupervised_loss, _, _, _ = model(unsupervised_batch['data'], None, beta)\n",
      "  File \"/home/tsa87/miniconda3/envs/python2/lib/python2.7/site-packages/torch/nn/modules/module.py\", line 541, in __call__\n",
      "    result = self.forward(*input, **kwargs)\n",
      "  File \"fast_jtnn/jtnn_vae.py\", line 321, in forward\n",
      "    self._compute_partial_loss(y_batch, x_batch, x_tree_vecs, x_tree_mess, x_mol_vecs, x_jtmpn_holder, beta)\n",
      "  File \"fast_jtnn/jtnn_vae.py\", line 276, in _compute_partial_loss\n",
      "    word_loss, topo_loss, word_acc, topo_acc = self.decoder(x_batch, z_tree_vecs)\n",
      "  File \"/home/tsa87/miniconda3/envs/python2/lib/python2.7/site-packages/torch/nn/modules/module.py\", line 541, in __call__\n",
      "    result = self.forward(*input, **kwargs)\n",
      "  File \"fast_jtnn/jtnn_dec.py\", line 113, in forward\n",
      "    cur_o_nei = torch.stack(cur_o_nei, dim=0).view(-1,MAX_NB,self.hidden_size)\n",
      "RuntimeError: shape '[-1, 15, 56]' is invalid for input of size 896\n"
     ]
    },
    {
     "name": "stdout",
     "output_type": "stream",
     "text": [
      "learning rate: 0.000098\n",
      "Epoch: 4 | Iter: 880\n",
      "[Test] Loss: 133.440, Clsf_loss: 66.97, Clsf_acc: 0.70\n",
      "fast_molvae/tox21_processed/train/tensors-2.pkl opened\n",
      "Epoch: 4 | Iter: 885\n",
      "[Test] Loss: 173.361, Clsf_loss: 95.38, Clsf_acc: 0.78\n",
      "Epoch: 4 | Iter: 890\n",
      "[Test] Loss: 188.848, Clsf_loss: 111.40, Clsf_acc: 0.72\n",
      "Epoch: 4 | Iter: 895\n",
      "[Test] Loss: 208.788, Clsf_loss: 112.95, Clsf_acc: 0.78\n"
     ]
    },
    {
     "name": "stderr",
     "output_type": "stream",
     "text": [
      "Traceback (most recent call last):\n",
      "  File \"<ipython-input-6-e1dd9347bfd5>\", line 72, in train\n",
      "    unsupervised_loss, _, _, _ = model(unsupervised_batch['data'], None, beta)\n",
      "  File \"/home/tsa87/miniconda3/envs/python2/lib/python2.7/site-packages/torch/nn/modules/module.py\", line 541, in __call__\n",
      "    result = self.forward(*input, **kwargs)\n",
      "  File \"fast_jtnn/jtnn_vae.py\", line 321, in forward\n",
      "    self._compute_partial_loss(y_batch, x_batch, x_tree_vecs, x_tree_mess, x_mol_vecs, x_jtmpn_holder, beta)\n",
      "  File \"fast_jtnn/jtnn_vae.py\", line 276, in _compute_partial_loss\n",
      "    word_loss, topo_loss, word_acc, topo_acc = self.decoder(x_batch, z_tree_vecs)\n",
      "  File \"/home/tsa87/miniconda3/envs/python2/lib/python2.7/site-packages/torch/nn/modules/module.py\", line 541, in __call__\n",
      "    result = self.forward(*input, **kwargs)\n",
      "  File \"fast_jtnn/jtnn_dec.py\", line 108, in forward\n",
      "    cur_h_nei = torch.stack(cur_h_nei, dim=0).view(-1,MAX_NB,self.hidden_size)\n",
      "RuntimeError: shape '[-1, 15, 56]' is invalid for input of size 896\n"
     ]
    },
    {
     "name": "stdout",
     "output_type": "stream",
     "text": [
      "Saving model to data/tox21/model/model.iter-at step: 900\n"
     ]
    },
    {
     "name": "stderr",
     "output_type": "stream",
     "text": [
      "Traceback (most recent call last):\n",
      "  File \"<ipython-input-6-e1dd9347bfd5>\", line 86, in train\n",
      "    torch.save(model.state_dict(), save_dir + \"/model.iter-\" + str(total_step))\n",
      "  File \"/home/tsa87/miniconda3/envs/python2/lib/python2.7/site-packages/torch/serialization.py\", line 260, in save\n",
      "    return _with_file_like(f, \"wb\", lambda f: _save(obj, f, pickle_module, pickle_protocol))\n",
      "  File \"/home/tsa87/miniconda3/envs/python2/lib/python2.7/site-packages/torch/serialization.py\", line 183, in _with_file_like\n",
      "    f = open(f, mode)\n",
      "IOError: [Errno 2] No such file or directory: 'data/tox21/model/model.iter-900'\n"
     ]
    },
    {
     "name": "stdout",
     "output_type": "stream",
     "text": [
      "Epoch: 4 | Iter: 905\n",
      "[Test] Loss: 296.330, Clsf_loss: 148.59, Clsf_acc: 1.45\n",
      "fast_molvae/tox21_processed/train/tensors-1.pkl opened\n",
      "Epoch: 4 | Iter: 910\n",
      "[Test] Loss: 202.981, Clsf_loss: 93.22, Clsf_acc: 0.62\n",
      "Epoch: 4 | Iter: 915\n",
      "[Test] Loss: 150.705, Clsf_loss: 67.34, Clsf_acc: 0.68\n",
      "learning rate: 0.000089\n",
      "Epoch: 4 | Iter: 920\n",
      "[Test] Loss: 175.151, Clsf_loss: 88.65, Clsf_acc: 0.78\n",
      "Epoch: 4 | Iter: 925\n",
      "[Test] Loss: 148.533, Clsf_loss: 69.55, Clsf_acc: 0.80\n",
      "Epoch: 4 | Iter: 930\n",
      "[Test] Loss: 163.265, Clsf_loss: 81.22, Clsf_acc: 0.72\n",
      "Epoch: 4 | Iter: 935\n",
      "[Test] Loss: 184.994, Clsf_loss: 95.03, Clsf_acc: 0.82\n",
      "fast_molvae/tox21_processed/train/tensors-7.pkl opened\n",
      "Epoch: 4 | Iter: 940\n",
      "[Test] Loss: 175.715, Clsf_loss: 87.40, Clsf_acc: 0.82\n",
      "Epoch: 4 | Iter: 945\n",
      "[Test] Loss: 165.185, Clsf_loss: 83.78, Clsf_acc: 0.75\n"
     ]
    },
    {
     "name": "stderr",
     "output_type": "stream",
     "text": [
      "Traceback (most recent call last):\n",
      "  File \"<ipython-input-6-e1dd9347bfd5>\", line 73, in train\n",
      "    supervised_loss, clsf_loss, clsf_acc, (pred, target) = model(supervised_batch['data'], labels, beta)\n",
      "  File \"/home/tsa87/miniconda3/envs/python2/lib/python2.7/site-packages/torch/nn/modules/module.py\", line 541, in __call__\n",
      "    result = self.forward(*input, **kwargs)\n",
      "  File \"fast_jtnn/jtnn_vae.py\", line 338, in forward\n",
      "    self._compute_partial_loss(y_batch, x_batch, x_tree_vecs, x_tree_mess, x_mol_vecs, x_jtmpn_holder, beta)\n",
      "  File \"fast_jtnn/jtnn_vae.py\", line 276, in _compute_partial_loss\n",
      "    word_loss, topo_loss, word_acc, topo_acc = self.decoder(x_batch, z_tree_vecs)\n",
      "  File \"/home/tsa87/miniconda3/envs/python2/lib/python2.7/site-packages/torch/nn/modules/module.py\", line 541, in __call__\n",
      "    result = self.forward(*input, **kwargs)\n",
      "  File \"fast_jtnn/jtnn_dec.py\", line 108, in forward\n",
      "    cur_h_nei = torch.stack(cur_h_nei, dim=0).view(-1,MAX_NB,self.hidden_size)\n",
      "RuntimeError: shape '[-1, 15, 56]' is invalid for input of size 1736\n"
     ]
    },
    {
     "name": "stdout",
     "output_type": "stream",
     "text": [
      "Saving model to data/tox21/model/model.iter-at step: 950\n"
     ]
    },
    {
     "name": "stderr",
     "output_type": "stream",
     "text": [
      "Traceback (most recent call last):\n",
      "  File \"<ipython-input-6-e1dd9347bfd5>\", line 86, in train\n",
      "    torch.save(model.state_dict(), save_dir + \"/model.iter-\" + str(total_step))\n",
      "  File \"/home/tsa87/miniconda3/envs/python2/lib/python2.7/site-packages/torch/serialization.py\", line 260, in save\n",
      "    return _with_file_like(f, \"wb\", lambda f: _save(obj, f, pickle_module, pickle_protocol))\n",
      "  File \"/home/tsa87/miniconda3/envs/python2/lib/python2.7/site-packages/torch/serialization.py\", line 183, in _with_file_like\n",
      "    f = open(f, mode)\n",
      "IOError: [Errno 2] No such file or directory: 'data/tox21/model/model.iter-950'\n"
     ]
    },
    {
     "name": "stdout",
     "output_type": "stream",
     "text": [
      "Epoch: 4 | Iter: 955\n",
      "[Test] Loss: 349.779, Clsf_loss: 188.37, Clsf_acc: 1.50\n",
      "learning rate: 0.000080\n",
      "Epoch: 4 | Iter: 960\n",
      "[Test] Loss: 178.275, Clsf_loss: 86.84, Clsf_acc: 0.85\n",
      "fast_molvae/tox21_processed/train/tensors-3.pkl opened\n"
     ]
    }
   ],
   "source": [
    "train(semiJTNNVAE, jt_optimizer, jt_scheduler, True)"
   ]
  },
  {
   "cell_type": "code",
   "execution_count": null,
   "metadata": {},
   "outputs": [],
   "source": [
    "train(semiNNVAE, nn_optimizer, nn_scheduler, False)"
   ]
  },
  {
   "cell_type": "code",
   "execution_count": null,
   "metadata": {},
   "outputs": [],
   "source": []
  },
  {
   "cell_type": "code",
   "execution_count": null,
   "metadata": {},
   "outputs": [],
   "source": []
  },
  {
   "cell_type": "code",
   "execution_count": null,
   "metadata": {},
   "outputs": [],
   "source": []
  }
 ],
 "metadata": {
  "kernelspec": {
   "display_name": "Python 2",
   "language": "python",
   "name": "python2"
  },
  "language_info": {
   "codemirror_mode": {
    "name": "ipython",
    "version": 2
   },
   "file_extension": ".py",
   "mimetype": "text/x-python",
   "name": "python",
   "nbconvert_exporter": "python",
   "pygments_lexer": "ipython2",
   "version": "2.7.16"
  }
 },
 "nbformat": 4,
 "nbformat_minor": 2
}
