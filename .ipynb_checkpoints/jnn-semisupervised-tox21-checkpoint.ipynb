{
 "cells": [
  {
   "cell_type": "code",
   "execution_count": 1,
   "metadata": {},
   "outputs": [],
   "source": [
    "%load_ext autoreload\n",
    "%autoreload 2\n",
    "\n",
    "import matplotlib.pyplot as plt\n",
    "import numpy as np\n",
    "from scipy.stats import norm\n",
    "import torch\n",
    "import torch.nn as nn\n",
    "from torch.nn import Parameter\n",
    "import sys\n",
    "sys.path.append('.')\n",
    "\n",
    "import torch.optim as optim\n",
    "import torch.optim.lr_scheduler as lr_scheduler\n",
    "from torch.utils.data import DataLoader\n",
    "from torch.autograd import Variable\n",
    "\n",
    "import math, random\n",
    "import argparse\n",
    "from collections import deque\n",
    "import cPickle as pickle\n",
    "\n",
    "from fast_jtnn import *\n",
    "import rdkit"
   ]
  },
  {
   "cell_type": "code",
   "execution_count": 4,
   "metadata": {},
   "outputs": [],
   "source": [
    "load_epoch = 0\n",
    "\n",
    "alpha = 0.1 * 7000 #0.1 * Number of samples\n",
    "\n",
    "hidden_size=450\n",
    "batch_size=32\n",
    "latent_size=56\n",
    "depthT=20\n",
    "depthG=3\n",
    "y_size=2\n",
    "\n",
    "lr=1e-3\n",
    "clip_norm=50.0\n",
    "beta=0.0\n",
    "step_beta=0.002\n",
    "max_beta=1.0\n",
    "warmup=40000\n",
    "\n",
    "epoch=50\n",
    "anneal_rate=0.9\n",
    "anneal_iter=40000\n",
    "kl_anneal_iter=2000\n",
    "save_iter=5000\n",
    "\n",
    "print_epoch=1\n",
    "test_epoch=1\n",
    "\n",
    "train_folder = 'fast_molvae/moses-processed/train'\n",
    "test_folder = 'fast_molvae/moses-processed/test'\n",
    "vocab_file = 'data/tox21/vocab.txt'"
   ]
  },
  {
   "cell_type": "code",
   "execution_count": 5,
   "metadata": {},
   "outputs": [],
   "source": [
    "vocab = [x.strip(\"\\r\\n \") for x in open(vocab_file)]\n",
    "vocab = Vocab(vocab)"
   ]
  },
  {
   "cell_type": "code",
   "execution_count": 6,
   "metadata": {
    "scrolled": true
   },
   "outputs": [
    {
     "name": "stderr",
     "output_type": "stream",
     "text": [
      "/home/tsa87/miniconda3/envs/python2/lib/python2.7/site-packages/torch/nn/_reduction.py:43: UserWarning: size_average and reduce args will be deprecated, please use reduction='sum' instead.\n",
      "  warnings.warn(warning.format(ret))\n"
     ]
    },
    {
     "name": "stdout",
     "output_type": "stream",
     "text": [
      "JTNNVAE(\n",
      "  (jtnn): JTNNEncoder(\n",
      "    (embedding): Embedding(550, 450)\n",
      "    (outputNN): Sequential(\n",
      "      (0): Linear(in_features=900, out_features=450, bias=True)\n",
      "      (1): ReLU()\n",
      "    )\n",
      "    (GRU): GraphGRU(\n",
      "      (W_z): Linear(in_features=900, out_features=450, bias=True)\n",
      "      (W_r): Linear(in_features=450, out_features=450, bias=False)\n",
      "      (U_r): Linear(in_features=450, out_features=450, bias=True)\n",
      "      (W_h): Linear(in_features=900, out_features=450, bias=True)\n",
      "    )\n",
      "  )\n",
      "  (decoder): JTNNDecoder(\n",
      "    (embedding): Embedding(550, 450)\n",
      "    (W_z): Linear(in_features=900, out_features=450, bias=True)\n",
      "    (U_r): Linear(in_features=450, out_features=450, bias=False)\n",
      "    (W_r): Linear(in_features=450, out_features=450, bias=True)\n",
      "    (W_h): Linear(in_features=900, out_features=450, bias=True)\n",
      "    (W): Linear(in_features=478, out_features=450, bias=True)\n",
      "    (U): Linear(in_features=478, out_features=450, bias=True)\n",
      "    (U_i): Linear(in_features=900, out_features=450, bias=True)\n",
      "    (W_o): Linear(in_features=450, out_features=550, bias=True)\n",
      "    (U_o): Linear(in_features=450, out_features=1, bias=True)\n",
      "    (pred_loss): CrossEntropyLoss()\n",
      "    (stop_loss): BCEWithLogitsLoss()\n",
      "  )\n",
      "  (classifier): Sequential(\n",
      "    (0): Linear(in_features=900, out_features=2, bias=True)\n",
      "    (1): Softmax(dim=None)\n",
      "  )\n",
      "  (classification_loss): CrossEntropyLoss()\n",
      "  (jtmpn): JTMPN(\n",
      "    (W_i): Linear(in_features=40, out_features=450, bias=False)\n",
      "    (W_h): Linear(in_features=450, out_features=450, bias=False)\n",
      "    (W_o): Linear(in_features=485, out_features=450, bias=True)\n",
      "  )\n",
      "  (mpn): MPN(\n",
      "    (W_i): Linear(in_features=50, out_features=450, bias=False)\n",
      "    (W_h): Linear(in_features=450, out_features=450, bias=False)\n",
      "    (W_o): Linear(in_features=489, out_features=450, bias=True)\n",
      "  )\n",
      "  (A_assm): Linear(in_features=28, out_features=450, bias=False)\n",
      "  (assm_loss): CrossEntropyLoss()\n",
      "  (T_mean): Linear(in_features=452, out_features=28, bias=True)\n",
      "  (T_var): Linear(in_features=452, out_features=28, bias=True)\n",
      "  (G_mean): Linear(in_features=452, out_features=28, bias=True)\n",
      "  (G_var): Linear(in_features=452, out_features=28, bias=True)\n",
      ")\n"
     ]
    }
   ],
   "source": [
    "model = JTNNVAE(vocab, hidden_size, latent_size, y_size, depthT, depthG, alpha).cuda()\n",
    "print model"
   ]
  },
  {
   "cell_type": "code",
   "execution_count": 7,
   "metadata": {},
   "outputs": [],
   "source": [
    "for param in model.parameters():\n",
    "    if param.dim() == 1:\n",
    "        nn.init.constant_(param, 0)\n",
    "    else:\n",
    "        nn.init.xavier_normal_(param)"
   ]
  },
  {
   "cell_type": "code",
   "execution_count": 8,
   "metadata": {},
   "outputs": [
    {
     "name": "stdout",
     "output_type": "stream",
     "text": [
      "Model #Params: 5368K\n"
     ]
    }
   ],
   "source": [
    "if load_epoch > 0:\n",
    "    model.load_state_dict(torch.load(save_dir + \"/model.iter-\" + str(load_epoch)))\n",
    "    \n",
    "print \"Model #Params: %dK\" % (sum([x.nelement() for x in model.parameters()]) / 1000,)"
   ]
  },
  {
   "cell_type": "code",
   "execution_count": 9,
   "metadata": {},
   "outputs": [
    {
     "name": "stderr",
     "output_type": "stream",
     "text": [
      "/home/tsa87/miniconda3/envs/python2/lib/python2.7/site-packages/torch/optim/lr_scheduler.py:100: UserWarning: Detected call of `lr_scheduler.step()` before `optimizer.step()`. In PyTorch 1.1.0 and later, you should call them in the opposite order: `optimizer.step()` before `lr_scheduler.step()`.  Failure to do this will result in PyTorch skipping the first value of the learning rate schedule.See more details at https://pytorch.org/docs/stable/optim.html#how-to-adjust-learning-rate\n",
      "  \"https://pytorch.org/docs/stable/optim.html#how-to-adjust-learning-rate\", UserWarning)\n"
     ]
    }
   ],
   "source": [
    "optimizer = optim.Adam(model.parameters(), lr=lr)\n",
    "scheduler = lr_scheduler.ExponentialLR(optimizer, anneal_rate)\n",
    "scheduler.step()"
   ]
  },
  {
   "cell_type": "code",
   "execution_count": 10,
   "metadata": {},
   "outputs": [],
   "source": [
    "param_norm = lambda m: math.sqrt(sum([p.norm().item() ** 2 for p in m.parameters()]))\n",
    "grad_norm = lambda m: math.sqrt(sum([p.grad.norm().item() ** 2 for p in m.parameters() if p.grad is not None]))"
   ]
  },
  {
   "cell_type": "code",
   "execution_count": 9,
   "metadata": {},
   "outputs": [
    {
     "name": "stderr",
     "output_type": "stream",
     "text": [
      "/home/tsa87/miniconda3/envs/python2/lib/python2.7/site-packages/torch/nn/functional.py:1351: UserWarning: nn.functional.sigmoid is deprecated. Use torch.sigmoid instead.\n",
      "  warnings.warn(\"nn.functional.sigmoid is deprecated. Use torch.sigmoid instead.\")\n",
      "/home/tsa87/miniconda3/envs/python2/lib/python2.7/site-packages/torch/nn/functional.py:1340: UserWarning: nn.functional.tanh is deprecated. Use torch.tanh instead.\n",
      "  warnings.warn(\"nn.functional.tanh is deprecated. Use torch.tanh instead.\")\n",
      "/home/tsa87/miniconda3/envs/python2/lib/python2.7/site-packages/torch/nn/modules/container.py:92: UserWarning: Implicit dimension choice for softmax has been deprecated. Change the call to include dim=X as an argument.\n",
      "  input = module(input)\n"
     ]
    },
    {
     "name": "stdout",
     "output_type": "stream",
     "text": [
      "Epoch: 0\n",
      "[Train] Loss: 189.653, KL: 41.21, Word: 28.20, Topo: 115.32, Assm: 68.09, Clsf: 100.00\n",
      "[Test] Clsf: 1.00\n",
      "Epoch: 1\n",
      "[Train] Loss: 110.855, KL: 908.97, Word: 50.35, Topo: 146.46, Assm: 112.82, Clsf: 83.33\n",
      "[Test] Clsf: 0.00\n",
      "Epoch: 2\n",
      "[Train] Loss: 105.699, KL: 1774.31, Word: 51.54, Topo: 145.16, Assm: 121.58, Clsf: 66.67\n",
      "[Test] Clsf: 0.00\n",
      "Epoch: 3\n",
      "[Train] Loss: 66.960, KL: 1397.28, Word: 49.13, Topo: 148.34, Assm: 129.77, Clsf: 83.33\n",
      "[Test] Clsf: 0.00\n",
      "Epoch: 4\n",
      "[Train] Loss: 158.384, KL: 1009.02, Word: 55.17, Topo: 146.91, Assm: 114.32, Clsf: 66.67\n",
      "[Test] Clsf: 0.00\n",
      "Epoch: 5\n",
      "[Train] Loss: 99.041, KL: 993.00, Word: 50.70, Topo: 147.68, Assm: 107.85, Clsf: 100.00\n",
      "[Test] Clsf: 1.00\n",
      "Epoch: 6\n",
      "[Train] Loss: 94.832, KL: 790.38, Word: 58.76, Topo: 157.89, Assm: 148.38, Clsf: 100.00\n",
      "[Test] Clsf: 1.00\n"
     ]
    },
    {
     "ename": "OSError",
     "evalue": "[Errno 2] No such file or directory: 'fast_molvae/moses-processed/'",
     "output_type": "error",
     "traceback": [
      "\u001b[0;31m\u001b[0m",
      "\u001b[0;31mOSError\u001b[0mTraceback (most recent call last)",
      "\u001b[0;32m<ipython-input-9-fc58d24acc75>\u001b[0m in \u001b[0;36m<module>\u001b[0;34m()\u001b[0m\n\u001b[1;32m      5\u001b[0m \u001b[0;32mfor\u001b[0m \u001b[0mepoch\u001b[0m \u001b[0;32min\u001b[0m \u001b[0mxrange\u001b[0m\u001b[0;34m(\u001b[0m\u001b[0mepoch\u001b[0m\u001b[0;34m)\u001b[0m\u001b[0;34m:\u001b[0m\u001b[0;34m\u001b[0m\u001b[0m\n\u001b[1;32m      6\u001b[0m \u001b[0;34m\u001b[0m\u001b[0m\n\u001b[0;32m----> 7\u001b[0;31m     \u001b[0mloader\u001b[0m \u001b[0;34m=\u001b[0m \u001b[0mMolTreeFolder\u001b[0m\u001b[0;34m(\u001b[0m\u001b[0mtrain_folder\u001b[0m\u001b[0;34m,\u001b[0m \u001b[0mvocab\u001b[0m\u001b[0;34m,\u001b[0m \u001b[0mbatch_size\u001b[0m\u001b[0;34m=\u001b[0m\u001b[0mbatch_size\u001b[0m\u001b[0;34m)\u001b[0m\u001b[0;34m\u001b[0m\u001b[0m\n\u001b[0m\u001b[1;32m      8\u001b[0m \u001b[0;34m\u001b[0m\u001b[0m\n\u001b[1;32m      9\u001b[0m     \u001b[0mepoch_step\u001b[0m \u001b[0;34m=\u001b[0m \u001b[0;36m0\u001b[0m\u001b[0;34m\u001b[0m\u001b[0m\n",
      "\u001b[0;32m/project/6061838/tsa87/icml18-jtnn/fast_jtnn/datautils.pyc\u001b[0m in \u001b[0;36m__init__\u001b[0;34m(self, data_folder, vocab, label_idx, batch_size, shuffle, assm, replicate)\u001b[0m\n\u001b[1;32m     49\u001b[0m     \u001b[0;32mdef\u001b[0m \u001b[0m__init__\u001b[0m\u001b[0;34m(\u001b[0m\u001b[0mself\u001b[0m\u001b[0;34m,\u001b[0m \u001b[0mdata_folder\u001b[0m\u001b[0;34m,\u001b[0m \u001b[0mvocab\u001b[0m\u001b[0;34m,\u001b[0m \u001b[0mlabel_idx\u001b[0m\u001b[0;34m=\u001b[0m\u001b[0;36m0\u001b[0m\u001b[0;34m,\u001b[0m \u001b[0mbatch_size\u001b[0m\u001b[0;34m=\u001b[0m\u001b[0;36m4\u001b[0m\u001b[0;34m,\u001b[0m \u001b[0mshuffle\u001b[0m\u001b[0;34m=\u001b[0m\u001b[0mTrue\u001b[0m\u001b[0;34m,\u001b[0m \u001b[0massm\u001b[0m\u001b[0;34m=\u001b[0m\u001b[0mTrue\u001b[0m\u001b[0;34m,\u001b[0m \u001b[0mreplicate\u001b[0m\u001b[0;34m=\u001b[0m\u001b[0mNone\u001b[0m\u001b[0;34m)\u001b[0m\u001b[0;34m:\u001b[0m\u001b[0;34m\u001b[0m\u001b[0m\n\u001b[1;32m     50\u001b[0m         \u001b[0mself\u001b[0m\u001b[0;34m.\u001b[0m\u001b[0mdata_folder\u001b[0m \u001b[0;34m=\u001b[0m \u001b[0mdata_folder\u001b[0m\u001b[0;34m\u001b[0m\u001b[0m\n\u001b[0;32m---> 51\u001b[0;31m         \u001b[0mself\u001b[0m\u001b[0;34m.\u001b[0m\u001b[0mdata_files\u001b[0m \u001b[0;34m=\u001b[0m \u001b[0;34m[\u001b[0m\u001b[0mfn\u001b[0m \u001b[0;32mfor\u001b[0m \u001b[0mfn\u001b[0m \u001b[0;32min\u001b[0m \u001b[0mos\u001b[0m\u001b[0;34m.\u001b[0m\u001b[0mlistdir\u001b[0m\u001b[0;34m(\u001b[0m\u001b[0mdata_folder\u001b[0m\u001b[0;34m)\u001b[0m\u001b[0;34m]\u001b[0m\u001b[0;34m\u001b[0m\u001b[0m\n\u001b[0m\u001b[1;32m     52\u001b[0m         \u001b[0mself\u001b[0m\u001b[0;34m.\u001b[0m\u001b[0mvocab\u001b[0m \u001b[0;34m=\u001b[0m \u001b[0mvocab\u001b[0m\u001b[0;34m\u001b[0m\u001b[0m\n\u001b[1;32m     53\u001b[0m         \u001b[0mself\u001b[0m\u001b[0;34m.\u001b[0m\u001b[0mbatch_size\u001b[0m \u001b[0;34m=\u001b[0m \u001b[0mbatch_size\u001b[0m\u001b[0;34m\u001b[0m\u001b[0m\n",
      "\u001b[0;31mOSError\u001b[0m: [Errno 2] No such file or directory: 'fast_molvae/moses-processed/'"
     ]
    }
   ],
   "source": [
    "total_step = load_epoch\n",
    "beta = beta\n",
    "has_cuda = torch.cuda.is_available()\n",
    "\n",
    "for epoch in xrange(epoch):\n",
    "    \n",
    "    train_loader = MolTreeFolder(train_folder, vocab, batch_size=batch_size)\n",
    "    \n",
    "    epoch_step = 0\n",
    "    meters = np.zeros(5)\n",
    "    \n",
    "    model.train()\n",
    "    \n",
    "    for (supervised_batch, unsupervised_batch) in train_loader: \n",
    "        if len(supervised_batch['labels']) == batch_size and len(unsupervised_batch['labels']) == batch_size:\n",
    "            total_step += 1\n",
    "            epoch_step += 1\n",
    "\n",
    "            labels = torch.from_numpy(supervised_batch['labels'])[:, None].long()\n",
    "            labels = torch.zeros(batch_size, 2).scatter_(1, labels, 1)\n",
    "            if has_cuda: labels = labels.cuda()\n",
    "            \n",
    "            model.zero_grad()\n",
    "            \n",
    "            unsupervised_loss, kl_div1, wacc1, tacc1, sacc1, _ = model(unsupervised_batch['data'], None, beta)\n",
    "            supervised_loss, kl_div2, wacc2, tacc2, sacc2, clsf_acc = model(supervised_batch['data'], labels, beta)\n",
    "\n",
    "            loss = unsupervised_loss + supervised_loss\n",
    "            \n",
    "            kl_div = kl_div1 + kl_div2\n",
    "            wacc = wacc1 + wacc2\n",
    "            tacc = tacc1 + tacc2\n",
    "            sacc = sacc1 + sacc2\n",
    "        \n",
    "            loss.backward()\n",
    "\n",
    "            nn.utils.clip_grad_norm_(model.parameters(), clip_norm)\n",
    "            optimizer.step()\n",
    "            optimizer.zero_grad()\n",
    "\n",
    "            meters = meters + np.array([kl_div, wacc * 100, tacc * 100, sacc * 100, clsf_acc * 100])\n",
    "\n",
    "            if total_step % save_iter == 0:\n",
    "                torch.save(model.state_dict(), save_dir + \"/model.iter-\" + str(total_step))\n",
    "\n",
    "            if total_step % anneal_iter == 0:\n",
    "                scheduler.step()\n",
    "                print \"learning rate: %.6f\" % scheduler.get_lr()[0]\n",
    "\n",
    "            if total_step % kl_anneal_iter == 0 and total_step >= warmup:\n",
    "                beta = min(max_beta, beta + step_beta)\n",
    "        \n",
    "    if epoch % print_epoch == 0:\n",
    "        meters /= epoch_step\n",
    "        # print \"[%d] Beta: %.3f, KL: %.2f, Word: %.2f, Topo: %.2f, Assm: %.2f, PNorm: %.2f, GNorm: %.2f\" % (total_step, beta, meters[0], meters[1], meters[2], meters[3], param_norm(model), grad_norm(model))\n",
    "        print \"Epoch: %d\" % epoch\n",
    "        print \"[Train] Loss: %.3f, KL: %.2f, Word: %.2f, Topo: %.2f, Assm: %.2f, Clsf: %.2f\" % (loss, meters[0], meters[1], meters[2], meters[3], meters[4])\n",
    "        sys.stdout.flush()\n",
    "        meters *= 0\n",
    "        \n",
    "                \n",
    "    if epoch % test_epoch == 0:\n",
    "        with torch.no_grad():\n",
    "            model.eval()\n",
    "        \n",
    "            test_loader = MolTreeFolder(test_folder, vocab, batch_size=batch_size)\n",
    "    \n",
    "            batch_count = 0\n",
    "            total_acc = 0\n",
    "\n",
    "            for (supervised_batch, _) in test_loader:\n",
    "                batch_count += 1\n",
    "\n",
    "                target = torch.tensor(supervised_batch['labels']).type(torch.int32)\n",
    "                target = target.cuda() if has_cuda else target\n",
    "                \n",
    "                supervised_input = supervised_batch['data']\n",
    "\n",
    "                pred = model.classify(supervised_input)                \n",
    "                total_acc += (pred == target).sum().item() / labels.size(0)\n",
    "\n",
    "            clsf_acc = total_acc / batch_count\n",
    "            print(\"[Test] Clsf: %.2f\" % clsf_acc)"
   ]
  },
  {
   "cell_type": "code",
   "execution_count": null,
   "metadata": {},
   "outputs": [],
   "source": []
  }
 ],
 "metadata": {
  "kernelspec": {
   "display_name": "Python 2",
   "language": "python",
   "name": "python2"
  },
  "language_info": {
   "codemirror_mode": {
    "name": "ipython",
    "version": 2
   },
   "file_extension": ".py",
   "mimetype": "text/x-python",
   "name": "python",
   "nbconvert_exporter": "python",
   "pygments_lexer": "ipython2",
   "version": "2.7.16"
  }
 },
 "nbformat": 4,
 "nbformat_minor": 2
}
